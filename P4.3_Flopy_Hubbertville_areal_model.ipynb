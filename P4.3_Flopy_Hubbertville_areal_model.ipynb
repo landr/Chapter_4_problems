{
 "cells": [
  {
   "cell_type": "markdown",
   "metadata": {},
   "source": [
    "<img src=\"AW&H2015.tiff\" style=\"float: left\">\n",
    "\n",
    "<img src=\"flopylogo.png\" style=\"float: center\">\n",
    "\n",
    "# Problem P4.3 Hubbertville Areal Model\n",
    "\n",
    "In Problem P4.3 from page 173-174 in Anderson, Woessner and Hunt (2015), we are asked to construct an areal 2D model to assess impacts of pumping.  The town of Hubbertville is planning to expand its water supply by constructing a pumping well in an unconfined gravel aquifer (Fig. P4.3). The well is designed to pump constantly at a rate of 20,000 m3/day. Well construction was halted by the State Fish and Game Service who manage the Green Swamp Conservation area. The agency claimed that pumping would “significantly reduce” groundwater discharge to the swamp and damage waterfowl habitat. The town claimed the fully penetrating river boundary to the north and the groundwater divide located near the center of the valley would prevent any change in flow to the swamp.\n",
    "\n",
    "## Part a.\n",
    "Construct a 2D areal steady-state model of the aquifer between the river and swamp for conditions prior to pumping using the information in Fig. P4.3. Represent the river and swamp boundaries as constant head boundaries with head set at 1000 m. The side boundaries are no-flow boundaries. Justify this assignment of boundary conditions. Use a constant nodal spacing of 500 m. Run the model and produce a contour map of heads. Draw the water-table profile in a north-south cross-section and label the simulated groundwater divide between the river and the swamp. Compute the discharge to Green Swamp.\n",
    "\n",
    "In this notebook, we will work through the problem using MODFLOW and the Python tool set Flopy. Notice how much code is reused from P4.1 because the variable names remained the same.\n",
    "\n",
    "<img src=\"P4.3_figure.tiff\" style=\"float: center\">\n",
    "\n",
    "Below is an iPython Notebook that builds a Python MODFLOW model for this problem and plots results. See the Github wiki associated with this Chapter for information on one suggested installation and setup configuration for Python and iPython Notebook.\n",
    "\n",
    "[Acknowledgements: This tutorial was created by Randy Hunt and all failings are mine.  The exercise here has benefited greatly from the online Flopy tutorial and example notebooks developed by Chris Langevin and Joe Hughes for the USGS Spring 2015 Python Training course GW1774]"
   ]
  },
  {
   "cell_type": "markdown",
   "metadata": {},
   "source": [
    "## Creating the Model\n",
    "In this example, we will create a simple groundwater flow model by following the tutorial included on the Flopy website.  We will make a few small changes  so that the tutorial works with our file structure.\n",
    "\n",
    "Visit the tutorial website [here](http://modflowpy.github.io/flopydoc/tutorial1.html \"tutorial\")."
   ]
  },
  {
   "cell_type": "markdown",
   "metadata": {},
   "source": [
    "### Setup the Notebook Environment and Import Flopy\n",
    "Load a few standard libraries, and then load flopy."
   ]
  },
  {
   "cell_type": "code",
   "execution_count": 1,
   "metadata": {
    "collapsed": true
   },
   "outputs": [],
   "source": [
    "%matplotlib inline\n",
    "import sys\n",
    "import os\n",
    "import shutil\n",
    "import numpy as np\n",
    "from subprocess import check_output\n",
    "\n",
    "# Import flopy\n",
    "import flopy"
   ]
  },
  {
   "cell_type": "markdown",
   "metadata": {},
   "source": [
    "### Setup a New Directory and Change Paths\n",
    "For this tutorial, we will work in a new subdirectory underneath the directory where the notebook is located. We can use some fancy Python tools to help us manage the directory creation. Note that if you encounter path problems with this workbook, you can stop and then restart the kernel and the paths will be reset."
   ]
  },
  {
   "cell_type": "code",
   "execution_count": 2,
   "metadata": {
    "collapsed": false
   },
   "outputs": [
    {
     "name": "stdout",
     "output_type": "stream",
     "text": [
      "Name of model path:  /Users/rjhunt1/GitHub/Chapter_4_problems-1/P4-3_Hubbertville\n",
      "Creating model working directory.\n"
     ]
    }
   ],
   "source": [
    "# Set the name of the path to the model working directory\n",
    "dirname = \"P4-3_Hubbertville\"\n",
    "datapath = os.getcwd()\n",
    "modelpath = os.path.join(datapath, dirname)\n",
    "print 'Name of model path: ', modelpath\n",
    "\n",
    "# Now let's check if this directory exists.  If not, then we will create it.\n",
    "if os.path.exists(modelpath):\n",
    "    print 'Model working directory already exists.'\n",
    "else:\n",
    "    print 'Creating model working directory.'\n",
    "    os.mkdir(modelpath)"
   ]
  },
  {
   "cell_type": "markdown",
   "metadata": {},
   "source": [
    "### Define the Model Extent, Grid Resolution, and Characteristics\n",
    "It is normally good practice to group things that you might want to change into a single code block.  This makes it easier to make changes and rerun the code."
   ]
  },
  {
   "cell_type": "code",
   "execution_count": 3,
   "metadata": {
    "collapsed": false
   },
   "outputs": [
    {
     "name": "stdout",
     "output_type": "stream",
     "text": [
      "DELR = 500.0   DELC = 500.0   DELV = 50.0\n",
      "BOTM = [ 1030.   980.]\n",
      "Recharge = 0.001\n",
      "Pumping well rate = 0.0\n"
     ]
    }
   ],
   "source": [
    "# model domain and grid definition\n",
    "# for clarity, user entered variables are all caps; python syntax are lower case or mixed case\n",
    "# In a contrast to P4.1 and P4.2, this is an areal 2D model\n",
    "LX = 4500.\n",
    "LY = 11000.   # note that there is an added 500m on the top and bottom to represent the boundary conditions,that leaves an aqufier lenght of 10000 m  \n",
    "ZTOP = 1030.  # the system is unconfined so set the top above land surface so that the water table never > layer top\n",
    "ZBOT = 980.\n",
    "NLAY = 1\n",
    "NROW = 22\n",
    "NCOL = 9\n",
    "DELR = LX / NCOL  # recall that MODFLOW convention is DELR is along a row, thus has items = NCOL; see page XXX in AW&H (2015)\n",
    "DELC = LY / NROW  # recall that MODFLOW convention is DELC is along a column, thus has items = NROW; see page XXX in AW&H (2015)\n",
    "DELV = (ZTOP - ZBOT) / NLAY\n",
    "BOTM = np.linspace(ZTOP, ZBOT, NLAY + 1)\n",
    "HK = 50.\n",
    "VKA = 1.\n",
    "RCH = 0.001\n",
    "WELLQ = 0.   #recall MODFLOW convention, negative means pumped out of the model domain (=aquifer)\n",
    "print \"DELR =\", DELR, \"  DELC =\", DELC, '  DELV =', DELV\n",
    "print \"BOTM =\", BOTM\n",
    "print \"Recharge =\", RCH \n",
    "print \"Pumping well rate =\", WELLQ\n"
   ]
  },
  {
   "cell_type": "markdown",
   "metadata": {},
   "source": [
    "### Create the MODFLOW Model Object\n",
    "Create a flopy MODFLOW object: [flopy.modflow.Modflow](http://modflowpy.github.io/flopydoc/mf.html)."
   ]
  },
  {
   "cell_type": "code",
   "execution_count": 4,
   "metadata": {
    "collapsed": false
   },
   "outputs": [
    {
     "name": "stdout",
     "output_type": "stream",
     "text": [
      "Model executable:  /Users/rjhunt1/GitHub/Chapter_4_problems-1/mf2005\n"
     ]
    }
   ],
   "source": [
    "# Assign name and create modflow model object\n",
    "modelname = 'P4-3'\n",
    "#exe_name = os.path.join(datapath, 'mf2005.exe') # for Windows OS\n",
    "exe_name = os.path.join(datapath, 'mf2005')     # for Mac OS\n",
    "print 'Model executable: ', exe_name\n",
    "MF = flopy.modflow.Modflow(modelname, exe_name=exe_name, model_ws=modelpath)"
   ]
  },
  {
   "cell_type": "markdown",
   "metadata": {},
   "source": [
    "### Discretization Package\n",
    "Create a flopy discretization package object: [flopy.modflow.ModflowDis](http://modflowpy.github.io/flopydoc/mfdis.html)."
   ]
  },
  {
   "cell_type": "code",
   "execution_count": 5,
   "metadata": {
    "collapsed": true
   },
   "outputs": [],
   "source": [
    "# Create the discretization object\n",
    "TOP = ZTOP * np.ones((NROW, NCOL),dtype=np.float)"
   ]
  },
  {
   "cell_type": "code",
   "execution_count": 6,
   "metadata": {
    "collapsed": true
   },
   "outputs": [],
   "source": [
    "DIS_PACKAGE = flopy.modflow.ModflowDis(MF, NLAY, NROW, NCOL, delr=DELR, delc=DELC,\n",
    "                               top=TOP, botm=BOTM[1:], laycbd=0)\n",
    "# print DIS_PACKAGE  #uncomment this on far left to see information about the flopy object"
   ]
  },
  {
   "cell_type": "markdown",
   "metadata": {},
   "source": [
    "### Basic Package\n",
    "Create a flopy basic package object: [flopy.modflow.ModflowBas](http://modflowpy.github.io/flopydoc/mfbas.html)."
   ]
  },
  {
   "cell_type": "code",
   "execution_count": 7,
   "metadata": {
    "collapsed": false
   },
   "outputs": [
    {
     "name": "stdout",
     "output_type": "stream",
     "text": [
      "[[[-1 -1 -1 -1 -1 -1 -1 -1 -1]\n",
      "  [ 1  1  1  1  1  1  1  1  1]\n",
      "  [ 1  1  1  1  1  1  1  1  1]\n",
      "  [ 1  1  1  1  1  1  1  1  1]\n",
      "  [ 1  1  1  1  1  1  1  1  1]\n",
      "  [ 1  1  1  1  1  1  1  1  1]\n",
      "  [ 1  1  1  1  1  1  1  1  1]\n",
      "  [ 1  1  1  1  1  1  1  1  1]\n",
      "  [ 1  1  1  1  1  1  1  1  1]\n",
      "  [ 1  1  1  1  1  1  1  1  1]\n",
      "  [ 1  1  1  1  1  1  1  1  1]\n",
      "  [ 1  1  1  1  1  1  1  1  1]\n",
      "  [ 1  1  1  1  1  1  1  1  1]\n",
      "  [ 1  1  1  1  1  1  1  1  1]\n",
      "  [ 1  1  1  1  1  1  1  1  1]\n",
      "  [ 1  1  1  1  1  1  1  1  1]\n",
      "  [ 1  1  1  1  1  1  1  1  1]\n",
      "  [ 1  1  1  1  1  1  1  1  1]\n",
      "  [ 1  1  1  1  1  1  1  1  1]\n",
      "  [ 1  1  1  1  1  1  1  1  1]\n",
      "  [ 1  1  1  1  1  1  1  1  1]\n",
      "  [-1 -1 -1 -1 -1 -1 -1 -1 -1]]]\n"
     ]
    }
   ],
   "source": [
    "# Variables for the BAS package\n",
    "IBOUND = np.ones((NLAY, NROW, NCOL), dtype=np.int32)  # all nodes are active (IBOUND = 1)\n",
    "\n",
    "# make the top of the profile specified head by setting the IBOUND = -1\n",
    "IBOUND[:, 0, :] = -1  #don't forget arrays are zero-based!\n",
    "IBOUND[:, -1, :] = -1  #-1 is Python for last in array\n",
    "print IBOUND"
   ]
  },
  {
   "cell_type": "code",
   "execution_count": 8,
   "metadata": {
    "collapsed": false
   },
   "outputs": [
    {
     "name": "stdout",
     "output_type": "stream",
     "text": [
      "[[[ 1000.  1000.  1000.  1000.  1000.  1000.  1000.  1000.  1000.]\n",
      "  [ 1015.  1015.  1015.  1015.  1015.  1015.  1015.  1015.  1015.]\n",
      "  [ 1015.  1015.  1015.  1015.  1015.  1015.  1015.  1015.  1015.]\n",
      "  [ 1015.  1015.  1015.  1015.  1015.  1015.  1015.  1015.  1015.]\n",
      "  [ 1015.  1015.  1015.  1015.  1015.  1015.  1015.  1015.  1015.]\n",
      "  [ 1015.  1015.  1015.  1015.  1015.  1015.  1015.  1015.  1015.]\n",
      "  [ 1015.  1015.  1015.  1015.  1015.  1015.  1015.  1015.  1015.]\n",
      "  [ 1015.  1015.  1015.  1015.  1015.  1015.  1015.  1015.  1015.]\n",
      "  [ 1015.  1015.  1015.  1015.  1015.  1015.  1015.  1015.  1015.]\n",
      "  [ 1015.  1015.  1015.  1015.  1015.  1015.  1015.  1015.  1015.]\n",
      "  [ 1015.  1015.  1015.  1015.  1015.  1015.  1015.  1015.  1015.]\n",
      "  [ 1015.  1015.  1015.  1015.  1015.  1015.  1015.  1015.  1015.]\n",
      "  [ 1015.  1015.  1015.  1015.  1015.  1015.  1015.  1015.  1015.]\n",
      "  [ 1015.  1015.  1015.  1015.  1015.  1015.  1015.  1015.  1015.]\n",
      "  [ 1015.  1015.  1015.  1015.  1015.  1015.  1015.  1015.  1015.]\n",
      "  [ 1015.  1015.  1015.  1015.  1015.  1015.  1015.  1015.  1015.]\n",
      "  [ 1015.  1015.  1015.  1015.  1015.  1015.  1015.  1015.  1015.]\n",
      "  [ 1015.  1015.  1015.  1015.  1015.  1015.  1015.  1015.  1015.]\n",
      "  [ 1015.  1015.  1015.  1015.  1015.  1015.  1015.  1015.  1015.]\n",
      "  [ 1015.  1015.  1015.  1015.  1015.  1015.  1015.  1015.  1015.]\n",
      "  [ 1015.  1015.  1015.  1015.  1015.  1015.  1015.  1015.  1015.]\n",
      "  [ 1000.  1000.  1000.  1000.  1000.  1000.  1000.  1000.  1000.]]]\n"
     ]
    }
   ],
   "source": [
    "STRT = 1015 * np.ones((NLAY, NROW, NCOL), dtype=np.float32)  # set starting head to 1010 m through out model domain\n",
    "STRT[:, 0, :] = 1000.       # river stage for setting constant head\n",
    "STRT[:, -1, :] = 1000.     # wetland stage for setting constant head\n",
    "print STRT"
   ]
  },
  {
   "cell_type": "code",
   "execution_count": 9,
   "metadata": {
    "collapsed": false
   },
   "outputs": [],
   "source": [
    "BAS_PACKAGE = flopy.modflow.ModflowBas(MF, ibound=IBOUND, strt=STRT)\n",
    "# print BAS_PACKAGE  # uncomment this at far left to see the information about the flopy BAS object"
   ]
  },
  {
   "cell_type": "markdown",
   "metadata": {},
   "source": [
    "### Layer Property Flow Package\n",
    "Create a flopy layer property flow package object: [flopy.modflow.ModflowLpf](http://modflowpy.github.io/flopydoc/mflpf.html)."
   ]
  },
  {
   "cell_type": "code",
   "execution_count": 10,
   "metadata": {
    "collapsed": false
   },
   "outputs": [],
   "source": [
    "LPF_PACKAGE = flopy.modflow.ModflowLpf(MF, laytyp=1, hk=HK, vka=VKA)  # we defined the K and anisotropy at top of file\n",
    "# print LPF_PACKAGE  # uncomment this at far left to see the information about the flopy LPF object"
   ]
  },
  {
   "cell_type": "markdown",
   "metadata": {},
   "source": [
    "### Well Package\n",
    "Create a flopy output control object: [flopy.modflow.ModflowWel](http://modflowpy.github.io/flopydoc/mfwel.html)."
   ]
  },
  {
   "cell_type": "code",
   "execution_count": 11,
   "metadata": {
    "collapsed": true
   },
   "outputs": [],
   "source": [
    "WEL_PACKAGE = flopy.modflow.ModflowWel(MF, stress_period_data=[0,6,4,WELLQ])  # remember python 0 index, layer 0 = layer 1 in MF\n",
    "#print WEL_PACKAGE  # uncomment this at far left to see the information about the flopy WEL object"
   ]
  },
  {
   "cell_type": "markdown",
   "metadata": {},
   "source": [
    "### Output Control\n",
    "Create a flopy output control object: [flopy.modflow.ModflowOc](http://modflowpy.github.io/flopydoc/mfoc.html)."
   ]
  },
  {
   "cell_type": "code",
   "execution_count": 12,
   "metadata": {
    "collapsed": true
   },
   "outputs": [],
   "source": [
    "OC_PACKAGE = flopy.modflow.ModflowOc(MF)   # we'll use the defaults for the model output\n",
    "# print OC_PACKAGE  # uncomment this at far left to see the information about the flopy OC object"
   ]
  },
  {
   "cell_type": "markdown",
   "metadata": {},
   "source": [
    "### Preconditioned Conjugate Gradient Solver\n",
    "Create a flopy pcg package object: [flopy.modflow.ModflowPcg](http://modflowpy.github.io/flopydoc/mfpcg.html)."
   ]
  },
  {
   "cell_type": "code",
   "execution_count": 13,
   "metadata": {
    "collapsed": true
   },
   "outputs": [],
   "source": [
    "PCG_PACKAGE = flopy.modflow.ModflowPcg(MF, mxiter=500, iter1=100, hclose=1e-04, rclose=1e-03, relax=0.98, damp=0.5) \n",
    "# print PCG_PACKAGE  # uncomment this at far left to see the information about the flopy PCG object"
   ]
  },
  {
   "cell_type": "markdown",
   "metadata": {},
   "source": [
    "### Recharge Package\n",
    "Create a flopy pcg package object: [flopy.modflow.ModflowRch](http://modflowpy.github.io/flopydoc/mfrch.html)."
   ]
  },
  {
   "cell_type": "code",
   "execution_count": 14,
   "metadata": {
    "collapsed": true
   },
   "outputs": [],
   "source": [
    "RCH_PACKAGE = flopy.modflow.ModflowRch(MF, rech=RCH)\n",
    "# print RCH_PACKAGE  # uncomment this at far left to see the information about the flopy RCH object"
   ]
  },
  {
   "cell_type": "markdown",
   "metadata": {},
   "source": [
    "## Writing the MODFLOW Input Files\n",
    "Before we create the model input datasets, we can do some directory cleanup to make sure that we don't accidently use old files."
   ]
  },
  {
   "cell_type": "code",
   "execution_count": 15,
   "metadata": {
    "collapsed": false
   },
   "outputs": [
    {
     "name": "stdout",
     "output_type": "stream",
     "text": [
      "/Users/rjhunt1/GitHub/Chapter_4_problems-1/P4-3_Hubbertville\n",
      "[]\n"
     ]
    }
   ],
   "source": [
    "#Before writing input, destroy all files in folder to prevent reusing old files\n",
    "#Here's the working directory\n",
    "print modelpath\n",
    "#Here's what's currently in the working directory\n",
    "modelfiles = os.listdir(modelpath)\n",
    "print modelfiles"
   ]
  },
  {
   "cell_type": "code",
   "execution_count": 16,
   "metadata": {
    "collapsed": false
   },
   "outputs": [],
   "source": [
    "#delete these files to prevent us from reading old results\n",
    "modelfiles = os.listdir(modelpath)\n",
    "for filename in modelfiles:\n",
    "    f = os.path.join(modelpath, filename)\n",
    "    if modelname in f:\n",
    "        try:\n",
    "            os.remove(f)\n",
    "            print 'Deleted: ', filename\n",
    "        except:\n",
    "            print 'Unable to delete: ', filename"
   ]
  },
  {
   "cell_type": "code",
   "execution_count": 17,
   "metadata": {
    "collapsed": true
   },
   "outputs": [],
   "source": [
    "#Now write the model input files\n",
    "MF.write_input()"
   ]
  },
  {
   "cell_type": "markdown",
   "metadata": {},
   "source": [
    "Yup.  It's that simple, the model datasets are written using a single command (mf.write_input)."
   ]
  },
  {
   "cell_type": "markdown",
   "metadata": {},
   "source": [
    "Check in the model working directory and verify that the input files have been created.  Or if you might just add another cell, right after this one, that prints a list of all the files in our model directory.  The path we are working in is returned from this next block."
   ]
  },
  {
   "cell_type": "code",
   "execution_count": 18,
   "metadata": {
    "collapsed": false
   },
   "outputs": [
    {
     "name": "stdout",
     "output_type": "stream",
     "text": [
      "You can check the newly created files in /Users/rjhunt1/GitHub/Chapter_4_problems-1/P4-3_Hubbertville\n"
     ]
    }
   ],
   "source": [
    "# return current working directory\n",
    "print \"You can check the newly created files in\", modelpath\n"
   ]
  },
  {
   "cell_type": "markdown",
   "metadata": {},
   "source": [
    "## Running the Model\n",
    "\n",
    "Flopy has several methods attached to the model object that can be used to run the model.  They are run_model, run_model2, and run_model3.  Here we use run_model3, which will write output to the notebook."
   ]
  },
  {
   "cell_type": "code",
   "execution_count": 19,
   "metadata": {
    "collapsed": false
   },
   "outputs": [
    {
     "name": "stdout",
     "output_type": "stream",
     "text": [
      "FloPy is using the following executable to run the model: /Users/rjhunt1/GitHub/Chapter_4_problems-1/mf2005\n",
      "\n",
      "                                  MODFLOW-2005     \n",
      "    U.S. GEOLOGICAL SURVEY MODULAR FINITE-DIFFERENCE GROUND-WATER FLOW MODEL\n",
      "                             Version 1.11.00 8/8/2013                        \n",
      "\n",
      " Using NAME file: P4-3.nam \n",
      " Run start date and time (yyyy/mm/dd hh:mm:ss): 2015/09/04 16:18:23\n",
      "\n",
      " Solving:  Stress period:     1    Time step:     1    Ground-Water Flow Eqn.\n",
      " Run end date and time (yyyy/mm/dd hh:mm:ss): 2015/09/04 16:18:23\n",
      " Elapsed run time:  0.007 Seconds\n",
      "\n",
      "  Normal termination of simulation\n"
     ]
    }
   ],
   "source": [
    "silent = False  #Print model output to screen?\n",
    "pause = False   #Require user to hit enter? Doesn't mean much in Ipython notebook\n",
    "report = True   #Store the output from the model in buff\n",
    "success, buff = MF.run_model(silent=silent, pause=pause, report=report)"
   ]
  },
  {
   "cell_type": "markdown",
   "metadata": {},
   "source": [
    "## Post Processing the Results\n",
    "To read heads from the MODFLOW binary output file, we can use the [flopy.utils.binaryfile](http://modflowpy.github.io/flopydoc/binaryfile.html) module. Specifically, we can use the HeadFile object from that module to extract head data arrays. "
   ]
  },
  {
   "cell_type": "code",
   "execution_count": 20,
   "metadata": {
    "collapsed": false
   },
   "outputs": [
    {
     "name": "stdout",
     "output_type": "stream",
     "text": [
      "Headfile (P4-3.hds) contains the following list of times:  [1.0]\n"
     ]
    }
   ],
   "source": [
    "#imports for plotting and reading the MODFLOW binary output file\n",
    "import matplotlib.pyplot as plt\n",
    "import flopy.utils.binaryfile as bf\n",
    "\n",
    "#Create the headfile object and grab the results for last time.\n",
    "headfile = os.path.join(modelpath, modelname + '.hds')\n",
    "headfileobj = bf.HeadFile(headfile)\n",
    "\n",
    "#Get a list of times that are contained in the model\n",
    "times = headfileobj.get_times()\n",
    "print 'Headfile (' + modelname + '.hds' + ') contains the following list of times: ', times"
   ]
  },
  {
   "cell_type": "code",
   "execution_count": 21,
   "metadata": {
    "collapsed": false
   },
   "outputs": [
    {
     "name": "stdout",
     "output_type": "stream",
     "text": [
      "Head statistics\n",
      "  min:  1000.0\n",
      "  max:  1010.83\n",
      "  std:  3.47007\n"
     ]
    }
   ],
   "source": [
    "#Get a numpy array of heads for totim = 1.0\n",
    "#The get_data method will extract head data from the binary file.\n",
    "HEAD = headfileobj.get_data(totim=1.0)\n",
    "\n",
    "#Print statistics on the head\n",
    "print 'Head statistics'\n",
    "print '  min: ', HEAD.min()\n",
    "print '  max: ', HEAD.max()\n",
    "print '  std: ', HEAD.std()"
   ]
  },
  {
   "cell_type": "code",
   "execution_count": 22,
   "metadata": {
    "collapsed": false
   },
   "outputs": [
    {
     "name": "stdout",
     "output_type": "stream",
     "text": [
      "Contour Levels:  [ 1000.   1000.5  1001.   1001.5  1002.   1002.5  1003.   1003.5  1004.\n",
      "  1004.5  1005.   1005.5  1006.   1006.5  1007.   1007.5  1008.   1008.5\n",
      "  1009.   1009.5  1010.   1010.5]\n",
      "Extent of domain:  (250.0, 4250.0, 250.0, 10750.0)\n"
     ]
    },
    {
     "data": {
      "image/png": "[encoded data removed]",
      "text/plain": [
       "<matplotlib.figure.Figure at 0x10627f190>"
      ]
     },
     "metadata": {},
     "output_type": "display_data"
    }
   ],
   "source": [
    "#Create a contour plot of heads\n",
    "FIG = plt.figure(figsize=(15,13))\n",
    "\n",
    "#setup contour levels and plot extent\n",
    "LEVELS = np.arange(1000., 1011., 0.5)\n",
    "EXTENT = (DELR/2., LX - DELR/2., DELC/2., LY - DELC/2.)\n",
    "print 'Contour Levels: ', LEVELS\n",
    "print 'Extent of domain: ', EXTENT\n",
    "\n",
    "#Make a contour plot on the first axis\n",
    "AX1 = FIG.add_subplot(1, 2, 1, aspect='equal')\n",
    "AX1.set_xlabel(\"x\")\n",
    "AX1.set_ylabel(\"y\")\n",
    "YTICKS = np.arange(0, 11000, 500)\n",
    "AX1.set_yticks(YTICKS)\n",
    "AX1.set_title(\"Hubbertville contour map\")\n",
    "AX1.text(2000, 10500, r\"River\", fontsize=10, color=\"blue\")\n",
    "AX1.text(1800, 340, r\"Green Swamp\", fontsize=10, color=\"green\")\n",
    "AX1.contour(np.flipud(HEAD[0, :, :]), levels=LEVELS, extent=EXTENT)\n",
    "\n",
    "#Make a color flood on the second axis\n",
    "AX2 = FIG.add_subplot(1, 2, 2, aspect='equal')\n",
    "AX2.set_xlabel(\"x\")\n",
    "AX2.set_ylabel(\"y\")\n",
    "AX2.set_yticks(YTICKS)\n",
    "AX2.set_title(\"Hubbertville color flood\")\n",
    "AX2.text(2000, 10500, r\"River\", fontsize=10, color=\"black\")\n",
    "AX2.text(1800, 340, r\"Green Swamp\", fontsize=10, color=\"black\")\n",
    "cax = AX2.imshow(HEAD[0, :, :], extent=EXTENT, interpolation='nearest')\n",
    "cbar = FIG.colorbar(cax, orientation='vertical', shrink=0.45)\n"
   ]
  },
  {
   "cell_type": "markdown",
   "metadata": {},
   "source": [
    "Look at the bottom of the MODFLOW output file (ending with a *.list) and note the water balance reported. "
   ]
  },
  {
   "cell_type": "code",
   "execution_count": 23,
   "metadata": {
    "collapsed": false
   },
   "outputs": [
    {
     "name": "stdout",
     "output_type": "stream",
     "text": [
      "[ 1000.          1002.36767578  1004.29956055  1005.8949585   1007.21380615\n",
      "  1008.29510498  1009.16546631  1009.84344482  1010.34191895  1010.66973877\n",
      "  1010.83233643  1010.83233643  1010.66973877  1010.34191895  1009.84344482\n",
      "  1009.16546631  1008.29510498  1007.21380615  1005.8949585   1004.29956055\n",
      "  1002.36767578  1000.        ]\n"
     ]
    }
   ],
   "source": [
    "#look at the head in column = 4 from headobj, and then plot it\n",
    "#print HEAD along a column; COL is a variable that allows us to change this easily\n",
    "COL = 4\n",
    "print HEAD[0,:,COL]"
   ]
  },
  {
   "cell_type": "code",
   "execution_count": 24,
   "metadata": {
    "collapsed": false
   },
   "outputs": [
    {
     "name": "stdout",
     "output_type": "stream",
     "text": [
      "[ 1000.          1002.36767578  1004.29956055  1005.8949585   1007.21380615\n",
      "  1008.29510498  1009.16546631  1009.84344482  1010.34191895  1010.66973877\n",
      "  1010.83233643  1010.83233643  1010.66973877  1010.34191895  1009.84344482\n",
      "  1009.16546631  1008.29510498  1007.21380615  1005.8949585   1004.29956055\n",
      "  1002.36767578  1000.        ]\n"
     ]
    }
   ],
   "source": [
    "# we see this is what we want, but is flipped because MODFLOW's array does not = Python, so we reverse the order (flip them) and call it \n",
    "Y = np.flipud(HEAD[0,:,COL])\n",
    "print Y"
   ]
  },
  {
   "cell_type": "code",
   "execution_count": 25,
   "metadata": {
    "collapsed": false
   },
   "outputs": [
    {
     "name": "stdout",
     "output_type": "stream",
     "text": [
      "[  250   750  1250  1750  2250  2750  3250  3750  4250  4750  5250  5750\n",
      "  6250  6750  7250  7750  8250  8750  9250  9750 10250 10750]\n"
     ]
    }
   ],
   "source": [
    "#for our cross section create X-coordinates to match with heads\n",
    "XCOORD = np.arange(0, 11000, 500) + 250\n",
    "print XCOORD"
   ]
  },
  {
   "cell_type": "code",
   "execution_count": 26,
   "metadata": {
    "collapsed": false
   },
   "outputs": [
    {
     "data": {
      "text/plain": [
       "[<matplotlib.lines.Line2D at 0x106bda1d0>]"
      ]
     },
     "execution_count": 26,
     "metadata": {},
     "output_type": "execute_result"
    },
    {
     "data": {
      "image/png": "[encoded data removed]",
      "text/plain": [
       "<matplotlib.figure.Figure at 0x1065af5d0>"
      ]
     },
     "metadata": {},
     "output_type": "display_data"
    }
   ],
   "source": [
    "fig = plt.figure(figsize=(10, 5))\n",
    "ax = fig.add_subplot(1, 1, 1)\n",
    "TITLE =  'cross section of head along Column = ({0})'.format(COL)\n",
    "ax.set_title(TITLE)\n",
    "ax.set_xlabel('y')\n",
    "ax.set_ylabel('head')\n",
    "ax.set_xlim(0, 11000.)\n",
    "ax.set_ylim(980.,1020.)\n",
    "ax.text(10480, 998, r\"River\", fontsize=10, color=\"blue\",rotation='vertical')\n",
    "ax.text(300, 998, r\"Green Swamp\", fontsize=10, color=\"green\",rotation='vertical')\n",
    "ax.text(5300,1009., r\"Groundwater Divide\", fontsize=10, color=\"black\",rotation='vertical')\n",
    "ax.plot(XCOORD, Y)"
   ]
  },
  {
   "cell_type": "code",
   "execution_count": 27,
   "metadata": {
    "collapsed": false
   },
   "outputs": [
    {
     "name": "stdout",
     "output_type": "stream",
     "text": [
      "heads in cells next to Green Swamp = [ 1002.36767578  1002.36767578  1002.36767578  1002.36767578  1002.36767578\n",
      "  1002.36767578  1002.36767578  1002.36767578  1002.36767578]\n",
      "gradient = 0.0047353515625   Kh = 50.0   thickness= 21.1838378906  Grid spacing = 500.0  Node flux = 2507.82299638\n",
      "gradient = 0.0047353515625   Kh = 50.0   thickness= 21.1838378906  Grid spacing = 500.0  Node flux = 2507.82299638\n",
      "gradient = 0.0047353515625   Kh = 50.0   thickness= 21.1838378906  Grid spacing = 500.0  Node flux = 2507.82299638\n",
      "gradient = 0.0047353515625   Kh = 50.0   thickness= 21.1838378906  Grid spacing = 500.0  Node flux = 2507.82299638\n",
      "gradient = 0.0047353515625   Kh = 50.0   thickness= 21.1838378906  Grid spacing = 500.0  Node flux = 2507.82299638\n",
      "gradient = 0.0047353515625   Kh = 50.0   thickness= 21.1838378906  Grid spacing = 500.0  Node flux = 2507.82299638\n",
      "gradient = 0.0047353515625   Kh = 50.0   thickness= 21.1838378906  Grid spacing = 500.0  Node flux = 2507.82299638\n",
      "gradient = 0.0047353515625   Kh = 50.0   thickness= 21.1838378906  Grid spacing = 500.0  Node flux = 2507.82299638\n",
      "gradient = 0.0047353515625   Kh = 50.0   thickness= 21.1838378906  Grid spacing = 500.0  Node flux = 2507.82299638\n",
      "Total Flux to Swamp = 22570.4069674 cubic meters per day\n"
     ]
    }
   ],
   "source": [
    "#calculate the flux to Green Swamp\n",
    "HEAD_ADJACENT_CELLS = HEAD[0,-2,:]\n",
    "print \"heads in cells next to Green Swamp =\", HEAD_ADJACENT_CELLS\n",
    "FLUX_TO_SWAMP = 0\n",
    "THICK = (HEAD[0,-2,5]+1000.)/2 - ZBOT   #the thickness is approximated using the average saturated thickness\n",
    "for NODEHEAD in HEAD_ADJACENT_CELLS:\n",
    "    NODEFLUX = (HK * ((NODEHEAD-1000.)/(DELC)) * (DELR * THICK)) # Q = KIA\n",
    "    FLUX_TO_SWAMP += NODEFLUX\n",
    "    print 'gradient =', (NODEHEAD-1000)/(DELC), '  Kh =', HK, '  thickness=', THICK, ' Grid spacing =', DELC, ' Node flux =', NODEFLUX\n",
    "print \"Total Flux to Swamp =\", FLUX_TO_SWAMP, \"cubic meters per day\""
   ]
  },
  {
   "cell_type": "code",
   "execution_count": 28,
   "metadata": {
    "collapsed": false
   },
   "outputs": [
    {
     "name": "stdout",
     "output_type": "stream",
     "text": [
      "heads in cells next to River = [ 1002.36767578  1002.36767578  1002.36767578  1002.36767578  1002.36767578\n",
      "  1002.36767578  1002.36767578  1002.36767578  1002.36767578]\n",
      "gradient = 0.0047353515625   Kh = 50.0   thickness= 21.1838378906  Grid spacing = 500.0  Node flux = 2507.82299638\n",
      "gradient = 0.0047353515625   Kh = 50.0   thickness= 21.1838378906  Grid spacing = 500.0  Node flux = 2507.82299638\n",
      "gradient = 0.0047353515625   Kh = 50.0   thickness= 21.1838378906  Grid spacing = 500.0  Node flux = 2507.82299638\n",
      "gradient = 0.0047353515625   Kh = 50.0   thickness= 21.1838378906  Grid spacing = 500.0  Node flux = 2507.82299638\n",
      "gradient = 0.0047353515625   Kh = 50.0   thickness= 21.1838378906  Grid spacing = 500.0  Node flux = 2507.82299638\n",
      "gradient = 0.0047353515625   Kh = 50.0   thickness= 21.1838378906  Grid spacing = 500.0  Node flux = 2507.82299638\n",
      "gradient = 0.0047353515625   Kh = 50.0   thickness= 21.1838378906  Grid spacing = 500.0  Node flux = 2507.82299638\n",
      "gradient = 0.0047353515625   Kh = 50.0   thickness= 21.1838378906  Grid spacing = 500.0  Node flux = 2507.82299638\n",
      "gradient = 0.0047353515625   Kh = 50.0   thickness= 21.1838378906  Grid spacing = 500.0  Node flux = 2507.82299638\n",
      "Total Flux to River = 22570.4069674 cubic meters per day\n"
     ]
    }
   ],
   "source": [
    "#calculate the flux to River\n",
    "HEAD_ADJACENT_CELLS = HEAD[0,1,:]\n",
    "print \"heads in cells next to River =\", HEAD_ADJACENT_CELLS\n",
    "FLUX_TO_RIVER = 0\n",
    "THICK = (HEAD[0,-2,5]+1000.)/2 - ZBOT   #the thickness is approximated using the average saturated thickness\n",
    "for NODEHEAD in HEAD_ADJACENT_CELLS:\n",
    "    NODEFLUX = (HK * (NODEHEAD-1000.)/(DELC) * DELR * THICK) # Q = KIA\n",
    "    FLUX_TO_RIVER += NODEFLUX\n",
    "    print 'gradient =', (NODEHEAD-1000)/(DELC), '  Kh =', HK, '  thickness=', THICK, ' Grid spacing =', DELC, ' Node flux =', NODEFLUX\n",
    "print \"Total Flux to River =\", FLUX_TO_RIVER, \"cubic meters per day\""
   ]
  },
  {
   "cell_type": "code",
   "execution_count": 29,
   "metadata": {
    "collapsed": false
   },
   "outputs": [
    {
     "name": "stdout",
     "output_type": "stream",
     "text": [
      "Flux to Green Swamp = 22570.4069674   Flux to River = 22570.4069674\n",
      "Flux to BCs = 45140.8139348 , Well pumping = -0.0 , Total Vol Out = 45140.8139348 cubic meters per day\n"
     ]
    }
   ],
   "source": [
    "print 'Flux to Green Swamp =', FLUX_TO_SWAMP, '  Flux to River =', FLUX_TO_RIVER\n",
    "BCFLUX = FLUX_TO_SWAMP + FLUX_TO_RIVER\n",
    "Q = WELLQ * -1\n",
    "print 'Flux to BCs =', BCFLUX,', Well pumping =', Q,', Total Vol Out =', BCFLUX+Q, 'cubic meters per day'"
   ]
  },
  {
   "cell_type": "markdown",
   "metadata": {},
   "source": [
    "## Testing your Skills\n",
    "\n",
    "1.  Does the total volumetric flux out equal that reported in the MODFLOW list file?\n",
    "\n",
    "2.  Experiment with horizontal grid resolution, well location, recharge, pumping rate, and aquifer characteristics.  Rerun the model and post process to evaluate the effects."
   ]
  },
  {
   "cell_type": "markdown",
   "metadata": {
    "collapsed": false
   },
   "source": [
    "# P4.3 Part b.\n",
    "\n",
    "Using the steady-state heads derived in (a), locate the groundwater divide in the central portion of the valley. Run the model using first a no-flow boundary and then a specified head boundary at the location of the groundwater divide.\n",
    "Compare results with those in part (a). Compute the discharge to Green Swamp under each representation. What is the effect of assigning an internal boundary on the results?"
   ]
  },
  {
   "cell_type": "code",
   "execution_count": 30,
   "metadata": {
    "collapsed": false
   },
   "outputs": [
    {
     "name": "stdout",
     "output_type": "stream",
     "text": [
      "[ 1010.66973877  1010.66973877  1010.66973877  1010.66973877  1010.66973877\n",
      "  1010.66973877  1010.66973877  1010.66973877  1010.66973877]\n"
     ]
    }
   ],
   "source": [
    "# let's print out some heads by row to see which has the highest head (=the gw divide); don't forget arrays are zero-based!\n",
    "print HEAD[0,9,:]"
   ]
  },
  {
   "cell_type": "code",
   "execution_count": 31,
   "metadata": {
    "collapsed": false
   },
   "outputs": [
    {
     "name": "stdout",
     "output_type": "stream",
     "text": [
      "[ 1010.83233643  1010.83233643  1010.83233643  1010.83233643  1010.83233643\n",
      "  1010.83233643  1010.83233643  1010.83233643  1010.83233643]\n"
     ]
    }
   ],
   "source": [
    "print HEAD[0,10,:]"
   ]
  },
  {
   "cell_type": "code",
   "execution_count": 32,
   "metadata": {
    "collapsed": false
   },
   "outputs": [
    {
     "name": "stdout",
     "output_type": "stream",
     "text": [
      "[ 1010.83233643  1010.83233643  1010.83233643  1010.83233643  1010.83233643\n",
      "  1010.83233643  1010.83233643  1010.83233643  1010.83233643]\n"
     ]
    }
   ],
   "source": [
    "print HEAD[0,11,:]"
   ]
  },
  {
   "cell_type": "code",
   "execution_count": 33,
   "metadata": {
    "collapsed": false
   },
   "outputs": [
    {
     "name": "stdout",
     "output_type": "stream",
     "text": [
      "[ 1010.66973877  1010.66973877  1010.66973877  1010.66973877  1010.66973877\n",
      "  1010.66973877  1010.66973877  1010.66973877  1010.66973877]\n"
     ]
    }
   ],
   "source": [
    "print HEAD[0,12,:]"
   ]
  },
  {
   "cell_type": "code",
   "execution_count": 34,
   "metadata": {
    "collapsed": false
   },
   "outputs": [
    {
     "name": "stdout",
     "output_type": "stream",
     "text": [
      "[[[-1 -1 -1 -1 -1 -1 -1 -1 -1]\n",
      "  [ 1  1  1  1  1  1  1  1  1]\n",
      "  [ 1  1  1  1  1  1  1  1  1]\n",
      "  [ 1  1  1  1  1  1  1  1  1]\n",
      "  [ 1  1  1  1  1  1  1  1  1]\n",
      "  [ 1  1  1  1  1  1  1  1  1]\n",
      "  [ 1  1  1  1  1  1  1  1  1]\n",
      "  [ 1  1  1  1  1  1  1  1  1]\n",
      "  [ 1  1  1  1  1  1  1  1  1]\n",
      "  [ 1  1  1  1  1  1  1  1  1]\n",
      "  [ 0  0  0  0  0  0  0  0  0]\n",
      "  [ 0  0  0  0  0  0  0  0  0]\n",
      "  [ 1  1  1  1  1  1  1  1  1]\n",
      "  [ 1  1  1  1  1  1  1  1  1]\n",
      "  [ 1  1  1  1  1  1  1  1  1]\n",
      "  [ 1  1  1  1  1  1  1  1  1]\n",
      "  [ 1  1  1  1  1  1  1  1  1]\n",
      "  [ 1  1  1  1  1  1  1  1  1]\n",
      "  [ 1  1  1  1  1  1  1  1  1]\n",
      "  [ 1  1  1  1  1  1  1  1  1]\n",
      "  [ 1  1  1  1  1  1  1  1  1]\n",
      "  [-1 -1 -1 -1 -1 -1 -1 -1 -1]]]\n"
     ]
    }
   ],
   "source": [
    "# Rows 10 and 11 have highest heads; let's save these rows of heads for later\n",
    "ROW10_HEAD = HEAD[0,10,:]\n",
    "ROW11_HEAD = HEAD[0,11,:]\n",
    "#let's reset Rows 10 and 11 to a no flow boundary (set that row to 0 in the MODFLOW IBOUND array)\n",
    "IBOUND[:, 10, :] = 0  \n",
    "IBOUND[:, 11, :] = 0 \n",
    "print IBOUND"
   ]
  },
  {
   "cell_type": "code",
   "execution_count": 35,
   "metadata": {
    "collapsed": false
   },
   "outputs": [
    {
     "name": "stdout",
     "output_type": "stream",
     "text": [
      "****Warning -- two packages of the same type:  <class 'flopy.modflow.mfbas.ModflowBas'> <class 'flopy.modflow.mfbas.ModflowBas'>\n",
      "replacing existing Package...\n"
     ]
    }
   ],
   "source": [
    "#we have to update the MODFLOW's BAS Package with the new IBOUND array \n",
    "BAS_PACKAGE = flopy.modflow.ModflowBas(MF, ibound=IBOUND, strt=STRT)"
   ]
  },
  {
   "cell_type": "code",
   "execution_count": 36,
   "metadata": {
    "collapsed": false
   },
   "outputs": [
    {
     "name": "stdout",
     "output_type": "stream",
     "text": [
      "****Warning -- two packages of the same type:  <class 'flopy.modflow.mfpcg.ModflowPcg'> <class 'flopy.modflow.mfpcg.ModflowPcg'>\n",
      "replacing existing Package...\n"
     ]
    }
   ],
   "source": [
    "# added MODFLOW solver here again for testing of solver convergence; the problem will solve with these settings\n",
    "#PCG_PACKAGE = flopy.modflow.ModflowPcg(MF, mxiter=500, iter1=100, hclose=1e-04, rclose=1e-03, relax=0.98, damp=0.5)\n",
    "# but you can play with other settings then execute the code blocks from here on down to see effect on convergence\n",
    "PCG_PACKAGE = flopy.modflow.ModflowPcg(MF, mxiter=500, iter1=100, hclose=1e-04, rclose=1e-03, relax=0.98, damp=0.5) "
   ]
  },
  {
   "cell_type": "code",
   "execution_count": 37,
   "metadata": {
    "collapsed": false
   },
   "outputs": [
    {
     "name": "stdout",
     "output_type": "stream",
     "text": [
      "/Users/rjhunt1/GitHub/Chapter_4_problems-1/P4-3_Hubbertville\n",
      "['P4-3.bas', 'P4-3.cbc', 'P4-3.ddn', 'P4-3.dis', 'P4-3.hds', 'P4-3.list', 'P4-3.lpf', 'P4-3.nam', 'P4-3.oc', 'P4-3.pcg', 'P4-3.rch', 'P4-3.wel']\n"
     ]
    }
   ],
   "source": [
    "#Before writing input, destroy all files in folder to prevent reusing old files\n",
    "#Here's the working directory\n",
    "print modelpath\n",
    "#Here's what's currently in the working directory\n",
    "modelfiles = os.listdir(modelpath)\n",
    "print modelfiles"
   ]
  },
  {
   "cell_type": "code",
   "execution_count": 38,
   "metadata": {
    "collapsed": false
   },
   "outputs": [
    {
     "name": "stdout",
     "output_type": "stream",
     "text": [
      "Deleted:  P4-3.bas\n",
      "Deleted:  P4-3.cbc\n",
      "Deleted:  P4-3.ddn\n",
      "Deleted:  P4-3.dis\n",
      "Deleted:  P4-3.hds\n",
      "Deleted:  P4-3.list\n",
      "Deleted:  P4-3.lpf\n",
      "Deleted:  P4-3.nam\n",
      "Deleted:  P4-3.oc\n",
      "Deleted:  P4-3.pcg\n",
      "Deleted:  P4-3.rch\n",
      "Deleted:  P4-3.wel\n"
     ]
    }
   ],
   "source": [
    "#delete these files to prevent us from reading old results\n",
    "modelfiles = os.listdir(modelpath)\n",
    "for filename in modelfiles:\n",
    "    f = os.path.join(modelpath, filename)\n",
    "    if modelname in f:\n",
    "        try:\n",
    "            os.remove(f)\n",
    "            print 'Deleted: ', filename\n",
    "        except:\n",
    "            print 'Unable to delete: ', filename"
   ]
  },
  {
   "cell_type": "code",
   "execution_count": 39,
   "metadata": {
    "collapsed": false
   },
   "outputs": [
    {
     "name": "stdout",
     "output_type": "stream",
     "text": [
      "New MODFLOW input files =  ['P4-3.bas', 'P4-3.cbc', 'P4-3.ddn', 'P4-3.dis', 'P4-3.hds', 'P4-3.list', 'P4-3.lpf', 'P4-3.nam', 'P4-3.oc', 'P4-3.pcg', 'P4-3.rch', 'P4-3.wel']\n",
      "You can check the newly created files in /Users/rjhunt1/GitHub/Chapter_4_problems-1/P4-3_Hubbertville\n"
     ]
    }
   ],
   "source": [
    "#Now write the model input files\n",
    "MF.write_input()\n",
    "print \"New MODFLOW input files = \", modelfiles\n",
    "print \"You can check the newly created files in\", modelpath\n"
   ]
  },
  {
   "cell_type": "code",
   "execution_count": 40,
   "metadata": {
    "collapsed": false
   },
   "outputs": [
    {
     "name": "stdout",
     "output_type": "stream",
     "text": [
      "FloPy is using the following executable to run the model: /Users/rjhunt1/GitHub/Chapter_4_problems-1/mf2005\n",
      "\n",
      "                                  MODFLOW-2005     \n",
      "    U.S. GEOLOGICAL SURVEY MODULAR FINITE-DIFFERENCE GROUND-WATER FLOW MODEL\n",
      "                             Version 1.11.00 8/8/2013                        \n",
      "\n",
      " Using NAME file: P4-3.nam \n",
      " Run start date and time (yyyy/mm/dd hh:mm:ss): 2015/09/04 16:18:25\n",
      "\n",
      " Solving:  Stress period:     1    Time step:     1    Ground-Water Flow Eqn.\n",
      " Run end date and time (yyyy/mm/dd hh:mm:ss): 2015/09/04 16:18:25\n",
      " Elapsed run time:  0.005 Seconds\n",
      "\n",
      "  Normal termination of simulation\n"
     ]
    }
   ],
   "source": [
    "#rerun MODFLOW-2005\n",
    "silent = False  #Print model output to screen?\n",
    "pause = False   #Require user to hit enter? Doesn't mean much in Ipython notebook\n",
    "report = True   #Store the output from the model in buff\n",
    "success, buff = MF.run_model(silent=silent, pause=pause, report=report)"
   ]
  },
  {
   "cell_type": "code",
   "execution_count": 41,
   "metadata": {
    "collapsed": false
   },
   "outputs": [
    {
     "name": "stdout",
     "output_type": "stream",
     "text": [
      "Headfile (P4-3.hds) contains the following list of times:  [1.0]\n",
      "Head statistics\n",
      "  min:  -999.99\n",
      "  max:  1009.16\n",
      "  std:  576.691\n"
     ]
    }
   ],
   "source": [
    "#As before, let's look at the results and compare to P4-3 Part a.\n",
    "#imports for plotting and reading the MODFLOW binary output file\n",
    "import matplotlib.pyplot as plt\n",
    "import flopy.utils.binaryfile as bf\n",
    "\n",
    "#Create the headfile object and grab the results for last time.\n",
    "headfile = os.path.join(modelpath, modelname + '.hds')\n",
    "headfileobj = bf.HeadFile(headfile)\n",
    "\n",
    "#Get a list of times that are contained in the model\n",
    "times = headfileobj.get_times()\n",
    "print 'Headfile (' + modelname + '.hds' + ') contains the following list of times: ', times\n",
    "\n",
    "#Get a numpy array of heads for totim = 1.0\n",
    "#The get_data method will extract head data from the binary file.\n",
    "HEAD = headfileobj.get_data(totim=1.0)\n",
    "\n",
    "#Print statistics on the head\n",
    "print 'Head statistics'\n",
    "print '  min: ', HEAD.min()\n",
    "print '  max: ', HEAD.max()\n",
    "print '  std: ', HEAD.std()"
   ]
  },
  {
   "cell_type": "code",
   "execution_count": 42,
   "metadata": {
    "collapsed": false
   },
   "outputs": [
    {
     "name": "stdout",
     "output_type": "stream",
     "text": [
      "Contour Levels:  [ 1000.   1000.5  1001.   1001.5  1002.   1002.5  1003.   1003.5  1004.\n",
      "  1004.5  1005.   1005.5  1006.   1006.5  1007.   1007.5  1008.   1008.5\n",
      "  1009.   1009.5  1010.   1010.5]\n",
      "Extent of domain:  (250.0, 4250.0, 250.0, 10750.0)\n"
     ]
    },
    {
     "data": {
      "image/png": "[encoded data removed]",
      "text/plain": [
       "<matplotlib.figure.Figure at 0x1065af050>"
      ]
     },
     "metadata": {},
     "output_type": "display_data"
    }
   ],
   "source": [
    "#-999.99 is the Inactive node flag so we'll use our previous contour settings\n",
    "#Create a contour plot of heads\n",
    "FIG = plt.figure(figsize=(15,13))\n",
    "\n",
    "#setup contour levels and plot extent\n",
    "LEVELS = np.arange(1000., 1011., 0.5)\n",
    "EXTENT = (DELR/2., LX - DELR/2., DELC/2., LY - DELC/2.)\n",
    "print 'Contour Levels: ', LEVELS\n",
    "print 'Extent of domain: ', EXTENT\n",
    "\n",
    "#Make a contour plot on the first axis\n",
    "AX1 = FIG.add_subplot(1, 2, 1, aspect='equal')\n",
    "AX1.set_xlabel(\"x\")\n",
    "AX1.set_ylabel(\"y\")\n",
    "YTICKS = np.arange(0, 11000, 500)\n",
    "AX1.set_yticks(YTICKS)\n",
    "AX1.set_title(\"Hubbertville contour map\")\n",
    "AX1.text(2000, 10500, r\"River\", fontsize=10, color=\"blue\")\n",
    "AX1.text(1800, 340, r\"Green Swamp\", fontsize=10, color=\"green\")\n",
    "AX1.contour(np.flipud(HEAD[0, :, :]), levels=LEVELS, extent=EXTENT)\n",
    "\n",
    "#Make a color flood on the second axis\n",
    "AX2 = FIG.add_subplot(1, 2, 2, aspect='equal')\n",
    "AX2.set_xlabel(\"x\")\n",
    "AX2.set_ylabel(\"y\")\n",
    "AX2.set_yticks(YTICKS)\n",
    "AX2.set_title(\"Hubbertville color flood\")\n",
    "AX2.text(2000, 10500, r\"River\", fontsize=10, color=\"black\")\n",
    "AX2.text(1800, 340, r\"Green Swamp\", fontsize=10, color=\"black\")\n",
    "cax = AX2.imshow(HEAD[0, :, :], extent=EXTENT, interpolation='nearest', vmin=998.2)\n",
    "cbar = FIG.colorbar(cax, orientation='vertical', shrink=0.45)"
   ]
  },
  {
   "cell_type": "code",
   "execution_count": 43,
   "metadata": {
    "collapsed": false
   },
   "outputs": [
    {
     "name": "stdout",
     "output_type": "stream",
     "text": [
      "[ 1000.          1002.14117432  1003.88195801  1005.30627441  1006.46575928\n",
      "  1007.39434814  1008.1151123   1008.64367676  1008.99072266  1009.16265869\n",
      "  -999.98999023  -999.98999023  1009.16265869  1008.99072266  1008.64367676\n",
      "  1008.1151123   1007.39434814  1006.46575928  1005.30627441  1003.88195801\n",
      "  1002.14123535  1000.        ]\n"
     ]
    }
   ],
   "source": [
    "COL = 4\n",
    "# recall we need to flip because MODFLOW's array does not = Python, so we reverse the order (flip them) and call it \n",
    "Y = np.flipud(HEAD[0,:,COL])\n",
    "print Y"
   ]
  },
  {
   "cell_type": "code",
   "execution_count": 44,
   "metadata": {
    "collapsed": false
   },
   "outputs": [
    {
     "name": "stdout",
     "output_type": "stream",
     "text": [
      "[  250   750  1250  1750  2250  2750  3250  3750  4250  4750  5250  5750\n",
      "  6250  6750  7250  7750  8250  8750  9250  9750 10250 10750]\n"
     ]
    }
   ],
   "source": [
    "#for our cross section create X-coordinates to match with heads\n",
    "XCOORD = np.arange(0, 11000, 500) + 250\n",
    "print XCOORD"
   ]
  },
  {
   "cell_type": "code",
   "execution_count": 45,
   "metadata": {
    "collapsed": false
   },
   "outputs": [
    {
     "data": {
      "text/plain": [
       "[<matplotlib.lines.Line2D at 0x107b06450>]"
      ]
     },
     "execution_count": 45,
     "metadata": {},
     "output_type": "execute_result"
    },
    {
     "data": {
      "image/png": "[encoded data removed]",
      "text/plain": [
       "<matplotlib.figure.Figure at 0x1064cae10>"
      ]
     },
     "metadata": {},
     "output_type": "display_data"
    }
   ],
   "source": [
    "fig = plt.figure(figsize=(10, 5))\n",
    "ax = fig.add_subplot(1, 1, 1)\n",
    "TITLE =  'cross section of head along Column = ({0})'.format(COL)\n",
    "ax.set_title(TITLE)\n",
    "ax.set_xlabel('y')\n",
    "ax.set_ylabel('head')\n",
    "ax.set_xlim(0, 11000.)\n",
    "ax.set_ylim(980.,1020.)\n",
    "ax.text(10480, 998, r\"River\", fontsize=10, color=\"blue\",rotation='vertical')\n",
    "ax.text(300, 998, r\"Green Swamp\", fontsize=10, color=\"green\",rotation='vertical')\n",
    "ax.text(5400,1006., r\"Groundwater Divide / Inactive cells\", fontsize=10, color=\"black\",rotation='vertical')\n",
    "ax.plot(XCOORD, Y)"
   ]
  },
  {
   "cell_type": "code",
   "execution_count": 46,
   "metadata": {
    "collapsed": false
   },
   "outputs": [
    {
     "name": "stdout",
     "output_type": "stream",
     "text": [
      "heads in cells next to Green Swamp = [ 1002.14117432  1002.14117432  1002.14117432  1002.14117432  1002.14117432\n",
      "  1002.14117432  1002.14117432  1002.14117432  1002.14117432]\n",
      "gradient = 0.00428234863281   Kh = 50.0   thickness= 21.0705871582  Grid spacing = 500.0  Node flux = 2255.79000274\n",
      "gradient = 0.00428234863281   Kh = 50.0   thickness= 21.0705871582  Grid spacing = 500.0  Node flux = 2255.79000274\n",
      "gradient = 0.00428234863281   Kh = 50.0   thickness= 21.0705871582  Grid spacing = 500.0  Node flux = 2255.79000274\n",
      "gradient = 0.00428234863281   Kh = 50.0   thickness= 21.0705871582  Grid spacing = 500.0  Node flux = 2255.79000274\n",
      "gradient = 0.00428234863281   Kh = 50.0   thickness= 21.0705871582  Grid spacing = 500.0  Node flux = 2255.79000274\n",
      "gradient = 0.00428234863281   Kh = 50.0   thickness= 21.0705871582  Grid spacing = 500.0  Node flux = 2255.79000274\n",
      "gradient = 0.00428234863281   Kh = 50.0   thickness= 21.0705871582  Grid spacing = 500.0  Node flux = 2255.79000274\n",
      "gradient = 0.00428234863281   Kh = 50.0   thickness= 21.0705871582  Grid spacing = 500.0  Node flux = 2255.79000274\n",
      "gradient = 0.00428234863281   Kh = 50.0   thickness= 21.0705871582  Grid spacing = 500.0  Node flux = 2255.79000274\n",
      "Total Flux to Swamp (No Flow) = 20302.1100246 cubic meters per day\n"
     ]
    }
   ],
   "source": [
    "#calculate the flux to Green Swamp\n",
    "HEAD_ADJACENT_CELLS = HEAD[0,-2,:]\n",
    "print \"heads in cells next to Green Swamp =\", HEAD_ADJACENT_CELLS\n",
    "FLUX_TO_SWAMP_NO_FLOW = 0\n",
    "THICK = (HEAD[0,-2,5]+1000.)/2 - ZBOT   #the thickness is approximated using the average saturated thickness\n",
    "for NODEHEAD in HEAD_ADJACENT_CELLS:\n",
    "    NODEFLUX = (HK * (NODEHEAD-1000.)/(DELC) * DELR * THICK) # Q = KIA\n",
    "    FLUX_TO_SWAMP_NO_FLOW += NODEFLUX\n",
    "    print 'gradient =', (NODEHEAD-1000)/(DELC), '  Kh =', HK, '  thickness=', THICK, ' Grid spacing =', DELC, ' Node flux =', NODEFLUX\n",
    "print \"Total Flux to Swamp (No Flow) =\", FLUX_TO_SWAMP_NO_FLOW, \"cubic meters per day\""
   ]
  },
  {
   "cell_type": "markdown",
   "metadata": {},
   "source": [
    "Why is there less water in the system than when the gw divide was not simulated with no-flow cells?\n",
    "\n",
    "Note that this problem is harder to solve.  To see non-convergence in MODFLOW, set the dampening in block In [36] to 1.0"
   ]
  },
  {
   "cell_type": "markdown",
   "metadata": {},
   "source": [
    "### Now let's try a specified head for the groundwater divide"
   ]
  },
  {
   "cell_type": "code",
   "execution_count": 47,
   "metadata": {
    "collapsed": false
   },
   "outputs": [
    {
     "name": "stdout",
     "output_type": "stream",
     "text": [
      "[[[-1 -1 -1 -1 -1 -1 -1 -1 -1]\n",
      "  [ 1  1  1  1  1  1  1  1  1]\n",
      "  [ 1  1  1  1  1  1  1  1  1]\n",
      "  [ 1  1  1  1  1  1  1  1  1]\n",
      "  [ 1  1  1  1  1  1  1  1  1]\n",
      "  [ 1  1  1  1  1  1  1  1  1]\n",
      "  [ 1  1  1  1  1  1  1  1  1]\n",
      "  [ 1  1  1  1  1  1  1  1  1]\n",
      "  [ 1  1  1  1  1  1  1  1  1]\n",
      "  [ 1  1  1  1  1  1  1  1  1]\n",
      "  [-1 -1 -1 -1 -1 -1 -1 -1 -1]\n",
      "  [-1 -1 -1 -1 -1 -1 -1 -1 -1]\n",
      "  [ 1  1  1  1  1  1  1  1  1]\n",
      "  [ 1  1  1  1  1  1  1  1  1]\n",
      "  [ 1  1  1  1  1  1  1  1  1]\n",
      "  [ 1  1  1  1  1  1  1  1  1]\n",
      "  [ 1  1  1  1  1  1  1  1  1]\n",
      "  [ 1  1  1  1  1  1  1  1  1]\n",
      "  [ 1  1  1  1  1  1  1  1  1]\n",
      "  [ 1  1  1  1  1  1  1  1  1]\n",
      "  [ 1  1  1  1  1  1  1  1  1]\n",
      "  [-1 -1 -1 -1 -1 -1 -1 -1 -1]]]\n"
     ]
    }
   ],
   "source": [
    "# Rows 10 and 11 had highest heads; reset Row 10 and 11 to a  specified head boundary (set that row to -1 in the MODFLOW IBOUND array)\n",
    "IBOUND[:, 10, :] = -1 \n",
    "IBOUND[:, 11, :] = -1 \n",
    "print IBOUND"
   ]
  },
  {
   "cell_type": "code",
   "execution_count": 48,
   "metadata": {
    "collapsed": false
   },
   "outputs": [
    {
     "name": "stdout",
     "output_type": "stream",
     "text": [
      "Row 10 heads = [ 1010.83233643  1010.83233643  1010.83233643  1010.83233643  1010.83233643\n",
      "  1010.83233643  1010.83233643  1010.83233643  1010.83233643]\n",
      "Row 11 heads = [ 1010.83233643  1010.83233643  1010.83233643  1010.83233643  1010.83233643\n",
      "  1010.83233643  1010.83233643  1010.83233643  1010.83233643]\n"
     ]
    }
   ],
   "source": [
    "#MODFLOW uses the starting heads to set the specified head boundary elevations\n",
    "#we need to reset the starting heads in Rows 10 and 11 to what they were originally\n",
    "#recall we saved these heads, and can print them to check\n",
    "print \"Row 10 heads =\", ROW10_HEAD\n",
    "print \"Row 11 heads =\", ROW11_HEAD"
   ]
  },
  {
   "cell_type": "code",
   "execution_count": 49,
   "metadata": {
    "collapsed": false
   },
   "outputs": [
    {
     "name": "stdout",
     "output_type": "stream",
     "text": [
      "[[[ 1000.          1000.          1000.          1000.          1000.\n",
      "    1000.          1000.          1000.          1000.        ]\n",
      "  [ 1015.          1015.          1015.          1015.          1015.\n",
      "    1015.          1015.          1015.          1015.        ]\n",
      "  [ 1015.          1015.          1015.          1015.          1015.\n",
      "    1015.          1015.          1015.          1015.        ]\n",
      "  [ 1015.          1015.          1015.          1015.          1015.\n",
      "    1015.          1015.          1015.          1015.        ]\n",
      "  [ 1015.          1015.          1015.          1015.          1015.\n",
      "    1015.          1015.          1015.          1015.        ]\n",
      "  [ 1015.          1015.          1015.          1015.          1015.\n",
      "    1015.          1015.          1015.          1015.        ]\n",
      "  [ 1015.          1015.          1015.          1015.          1015.\n",
      "    1015.          1015.          1015.          1015.        ]\n",
      "  [ 1015.          1015.          1015.          1015.          1015.\n",
      "    1015.          1015.          1015.          1015.        ]\n",
      "  [ 1015.          1015.          1015.          1015.          1015.\n",
      "    1015.          1015.          1015.          1015.        ]\n",
      "  [ 1015.          1015.          1015.          1015.          1015.\n",
      "    1015.          1015.          1015.          1015.        ]\n",
      "  [ 1010.83233643  1010.83233643  1010.83233643  1010.83233643\n",
      "    1010.83233643  1010.83233643  1010.83233643  1010.83233643\n",
      "    1010.83233643]\n",
      "  [ 1010.83233643  1010.83233643  1010.83233643  1010.83233643\n",
      "    1010.83233643  1010.83233643  1010.83233643  1010.83233643\n",
      "    1010.83233643]\n",
      "  [ 1015.          1015.          1015.          1015.          1015.\n",
      "    1015.          1015.          1015.          1015.        ]\n",
      "  [ 1015.          1015.          1015.          1015.          1015.\n",
      "    1015.          1015.          1015.          1015.        ]\n",
      "  [ 1015.          1015.          1015.          1015.          1015.\n",
      "    1015.          1015.          1015.          1015.        ]\n",
      "  [ 1015.          1015.          1015.          1015.          1015.\n",
      "    1015.          1015.          1015.          1015.        ]\n",
      "  [ 1015.          1015.          1015.          1015.          1015.\n",
      "    1015.          1015.          1015.          1015.        ]\n",
      "  [ 1015.          1015.          1015.          1015.          1015.\n",
      "    1015.          1015.          1015.          1015.        ]\n",
      "  [ 1015.          1015.          1015.          1015.          1015.\n",
      "    1015.          1015.          1015.          1015.        ]\n",
      "  [ 1015.          1015.          1015.          1015.          1015.\n",
      "    1015.          1015.          1015.          1015.        ]\n",
      "  [ 1015.          1015.          1015.          1015.          1015.\n",
      "    1015.          1015.          1015.          1015.        ]\n",
      "  [ 1000.          1000.          1000.          1000.          1000.\n",
      "    1000.          1000.          1000.          1000.        ]]]\n"
     ]
    }
   ],
   "source": [
    "STRT[:, 10, :] = ROW10_HEAD       # setting starting heads Row 10 to heads calculated in Part a.\n",
    "STRT[:, 11, :] = ROW11_HEAD       # setting starting heads Row 10 to heads calculated in Part a.\n",
    "print STRT"
   ]
  },
  {
   "cell_type": "code",
   "execution_count": 50,
   "metadata": {
    "collapsed": false
   },
   "outputs": [
    {
     "name": "stdout",
     "output_type": "stream",
     "text": [
      "****Warning -- two packages of the same type:  <class 'flopy.modflow.mfbas.ModflowBas'> <class 'flopy.modflow.mfbas.ModflowBas'>\n",
      "replacing existing Package...\n"
     ]
    }
   ],
   "source": [
    "#we have to update the MODFLOW's BAS Package with the new STRT heads \n",
    "BAS_PACKAGE = flopy.modflow.ModflowBas(MF, ibound=IBOUND, strt=STRT)"
   ]
  },
  {
   "cell_type": "code",
   "execution_count": 51,
   "metadata": {
    "collapsed": false
   },
   "outputs": [
    {
     "name": "stdout",
     "output_type": "stream",
     "text": [
      "Deleted:  P4-3.bas\n",
      "Deleted:  P4-3.cbc\n",
      "Deleted:  P4-3.ddn\n",
      "Deleted:  P4-3.dis\n",
      "Deleted:  P4-3.hds\n",
      "Deleted:  P4-3.list\n",
      "Deleted:  P4-3.lpf\n",
      "Deleted:  P4-3.nam\n",
      "Deleted:  P4-3.oc\n",
      "Deleted:  P4-3.pcg\n",
      "Deleted:  P4-3.rch\n",
      "Deleted:  P4-3.wel\n"
     ]
    }
   ],
   "source": [
    "#delete old files to prevent us from reading old results\n",
    "modelfiles = os.listdir(modelpath)\n",
    "for filename in modelfiles:\n",
    "    f = os.path.join(modelpath, filename)\n",
    "    if modelname in f:\n",
    "        try:\n",
    "            os.remove(f)\n",
    "            print 'Deleted: ', filename\n",
    "        except:\n",
    "            print 'Unable to delete: ', filename"
   ]
  },
  {
   "cell_type": "code",
   "execution_count": 52,
   "metadata": {
    "collapsed": false
   },
   "outputs": [
    {
     "name": "stdout",
     "output_type": "stream",
     "text": [
      "New MODFLOW input files =  ['P4-3.bas', 'P4-3.cbc', 'P4-3.ddn', 'P4-3.dis', 'P4-3.hds', 'P4-3.list', 'P4-3.lpf', 'P4-3.nam', 'P4-3.oc', 'P4-3.pcg', 'P4-3.rch', 'P4-3.wel']\n",
      "You can check the newly created files in /Users/rjhunt1/GitHub/Chapter_4_problems-1/P4-3_Hubbertville\n"
     ]
    }
   ],
   "source": [
    "#Now write the model input files\n",
    "MF.write_input()\n",
    "print \"New MODFLOW input files = \", modelfiles\n",
    "print \"You can check the newly created files in\", modelpath\n"
   ]
  },
  {
   "cell_type": "code",
   "execution_count": 53,
   "metadata": {
    "collapsed": false
   },
   "outputs": [
    {
     "name": "stdout",
     "output_type": "stream",
     "text": [
      "FloPy is using the following executable to run the model: /Users/rjhunt1/GitHub/Chapter_4_problems-1/mf2005\n",
      "\n",
      "                                  MODFLOW-2005     \n",
      "    U.S. GEOLOGICAL SURVEY MODULAR FINITE-DIFFERENCE GROUND-WATER FLOW MODEL\n",
      "                             Version 1.11.00 8/8/2013                        \n",
      "\n",
      " Using NAME file: P4-3.nam \n",
      " Run start date and time (yyyy/mm/dd hh:mm:ss): 2015/09/04 16:18:26\n",
      "\n",
      " Solving:  Stress period:     1    Time step:     1    Ground-Water Flow Eqn.\n",
      " Run end date and time (yyyy/mm/dd hh:mm:ss): 2015/09/04 16:18:26\n",
      " Elapsed run time:  0.004 Seconds\n",
      "\n",
      "  Normal termination of simulation\n"
     ]
    }
   ],
   "source": [
    "#rerun MODFLOW-2005\n",
    "silent = False  #Print model output to screen?\n",
    "pause = False   #Require user to hit enter? Doesn't mean much in Ipython notebook\n",
    "report = True   #Store the output from the model in buff\n",
    "success, buff = MF.run_model(silent=silent, pause=pause, report=report)"
   ]
  },
  {
   "cell_type": "code",
   "execution_count": 54,
   "metadata": {
    "collapsed": false
   },
   "outputs": [
    {
     "name": "stdout",
     "output_type": "stream",
     "text": [
      "Headfile (P4-3.hds) contains the following list of times:  [1.0]\n",
      "Head statistics\n",
      "  min:  1000.0\n",
      "  max:  1010.83\n",
      "  std:  3.46996\n"
     ]
    }
   ],
   "source": [
    "#As before, let's look at the results and compare to P4-3 Part a.\n",
    "#imports for plotting and reading the MODFLOW binary output file\n",
    "import matplotlib.pyplot as plt\n",
    "import flopy.utils.binaryfile as bf\n",
    "\n",
    "#Create the headfile object and grab the results for last time.\n",
    "headfile = os.path.join(modelpath, modelname + '.hds')\n",
    "headfileobj = bf.HeadFile(headfile)\n",
    "\n",
    "#Get a list of times that are contained in the model\n",
    "times = headfileobj.get_times()\n",
    "print 'Headfile (' + modelname + '.hds' + ') contains the following list of times: ', times\n",
    "\n",
    "#Get a numpy array of heads for totim = 1.0\n",
    "#The get_data method will extract head data from the binary file.\n",
    "HEAD = headfileobj.get_data(totim=1.0)\n",
    "\n",
    "#Print statistics on the head\n",
    "print 'Head statistics'\n",
    "print '  min: ', HEAD.min()\n",
    "print '  max: ', HEAD.max()\n",
    "print '  std: ', HEAD.std()"
   ]
  },
  {
   "cell_type": "code",
   "execution_count": 55,
   "metadata": {
    "collapsed": false
   },
   "outputs": [
    {
     "data": {
      "text/plain": [
       "[<matplotlib.lines.Line2D at 0x103a344d0>]"
      ]
     },
     "execution_count": 55,
     "metadata": {},
     "output_type": "execute_result"
    },
    {
     "data": {
      "image/png": "[encoded data removed]",
      "text/plain": [
       "<matplotlib.figure.Figure at 0x106fbb290>"
      ]
     },
     "metadata": {},
     "output_type": "display_data"
    },
    {
     "data": {
      "image/png": "[encoded data removed]",
      "text/plain": [
       "<matplotlib.figure.Figure at 0x106b19d50>"
      ]
     },
     "metadata": {},
     "output_type": "display_data"
    }
   ],
   "source": [
    "#Create a contour plot of heads\n",
    "FIG = plt.figure(figsize=(15,13))\n",
    "\n",
    "#setup contour levels and plot extent\n",
    "LEVELS = np.arange(1000., 1011., 0.5)\n",
    "EXTENT = (DELR/2., LX - DELR/2., DELC/2., LY - DELC/2.)\n",
    "\n",
    "#Make a contour plot on the first axis\n",
    "AX1 = FIG.add_subplot(1, 2, 1, aspect='equal')\n",
    "AX1.set_xlabel(\"x\")\n",
    "AX1.set_ylabel(\"y\")\n",
    "YTICKS = np.arange(0, 11000, 500)\n",
    "AX1.set_yticks(YTICKS)\n",
    "AX1.set_title(\"Hubbertville contour map\")\n",
    "AX1.text(2000, 10500, r\"River\", fontsize=10, color=\"blue\")\n",
    "AX1.text(1800, 340, r\"Green Swamp\", fontsize=10, color=\"green\")\n",
    "AX1.contour(np.flipud(HEAD[0, :, :]), levels=LEVELS, extent=EXTENT)\n",
    "\n",
    "#Make a color flood on the second axis\n",
    "AX2 = FIG.add_subplot(1, 2, 2, aspect='equal')\n",
    "AX2.set_xlabel(\"x\")\n",
    "AX2.set_ylabel(\"y\")\n",
    "AX2.set_yticks(YTICKS)\n",
    "AX2.set_title(\"Hubbertville color flood\")\n",
    "AX2.text(2000, 10500, r\"River\", fontsize=10, color=\"black\")\n",
    "AX2.text(1800, 340, r\"Green Swamp\", fontsize=10, color=\"black\")\n",
    "cax = AX2.imshow(HEAD[0, :, :], extent=EXTENT, interpolation='nearest', vmin=998.2)\n",
    "cbar = FIG.colorbar(cax, orientation='vertical', shrink=0.45)\n",
    "\n",
    "#as before let's plot a north-south cross section\n",
    "COL = 4\n",
    "# recall we need to flip because MODFLOW's array does not = Python, so we reverse the order (flip them) and call it \n",
    "Y = np.flipud(HEAD[0,:,COL])\n",
    "#for our cross section create X-coordinates to match with heads\n",
    "XCOORD = np.arange(0, 11000, 500) + 250\n",
    "fig = plt.figure(figsize=(10, 5))\n",
    "ax = fig.add_subplot(1, 1, 1)\n",
    "TITLE =  'cross section of head along Column = ({0})'.format(COL)\n",
    "ax.set_title(TITLE)\n",
    "ax.set_xlabel('y')\n",
    "ax.set_ylabel('head')\n",
    "ax.set_xlim(0, 11000.)\n",
    "ax.set_ylim(980.,1020.)\n",
    "ax.text(10480, 998, r\"River\", fontsize=10, color=\"blue\",rotation='vertical')\n",
    "ax.text(300, 998, r\"Green Swamp\", fontsize=10, color=\"green\",rotation='vertical')\n",
    "ax.text(5400,1007., r\"Groundwater Divide\", fontsize=10, color=\"black\",rotation='vertical')\n",
    "ax.plot(XCOORD, Y)"
   ]
  },
  {
   "cell_type": "code",
   "execution_count": 56,
   "metadata": {
    "collapsed": false
   },
   "outputs": [
    {
     "name": "stdout",
     "output_type": "stream",
     "text": [
      "heads in cells next to Green Swamp = [ 1002.36761475  1002.36761475  1002.36761475  1002.36761475  1002.36761475\n",
      "  1002.36761475  1002.36761475  1002.36761475  1002.36761475]\n",
      "gradient = 0.00473522949219   Kh = 50.0   thickness= 21.183807373  Grid spacing = 500.0  Node flux = 2507.75473574\n",
      "gradient = 0.00473522949219   Kh = 50.0   thickness= 21.183807373  Grid spacing = 500.0  Node flux = 2507.75473574\n",
      "gradient = 0.00473522949219   Kh = 50.0   thickness= 21.183807373  Grid spacing = 500.0  Node flux = 2507.75473574\n",
      "gradient = 0.00473522949219   Kh = 50.0   thickness= 21.183807373  Grid spacing = 500.0  Node flux = 2507.75473574\n",
      "gradient = 0.00473522949219   Kh = 50.0   thickness= 21.183807373  Grid spacing = 500.0  Node flux = 2507.75473574\n",
      "gradient = 0.00473522949219   Kh = 50.0   thickness= 21.183807373  Grid spacing = 500.0  Node flux = 2507.75473574\n",
      "gradient = 0.00473522949219   Kh = 50.0   thickness= 21.183807373  Grid spacing = 500.0  Node flux = 2507.75473574\n",
      "gradient = 0.00473522949219   Kh = 50.0   thickness= 21.183807373  Grid spacing = 500.0  Node flux = 2507.75473574\n",
      "gradient = 0.00473522949219   Kh = 50.0   thickness= 21.183807373  Grid spacing = 500.0  Node flux = 2507.75473574\n",
      "Total Flux to Swamp (Specified Head) = 22569.7926217 cubic meters per day\n"
     ]
    }
   ],
   "source": [
    "#calculate the flux to Green Swamp\n",
    "HEAD_ADJACENT_CELLS = HEAD[0,-2,:]\n",
    "print \"heads in cells next to Green Swamp =\", HEAD_ADJACENT_CELLS\n",
    "FLUX_TO_SWAMP_SPEC_HEAD = 0\n",
    "THICK = (HEAD[0,-2,5]+1000.)/2 - ZBOT   #the thickness is approximated using the average saturated thickness\n",
    "for NODEHEAD in HEAD_ADJACENT_CELLS:\n",
    "    NODEFLUX = (HK * (NODEHEAD-1000.)/(DELC) * DELR * THICK) # Q = KIA\n",
    "    FLUX_TO_SWAMP_SPEC_HEAD += NODEFLUX\n",
    "    print 'gradient =', (NODEHEAD-1000)/(DELC), '  Kh =', HK, '  thickness=', THICK, ' Grid spacing =', DELC, ' Node flux =', NODEFLUX\n",
    "print \"Total Flux to Swamp (Specified Head) =\", FLUX_TO_SWAMP_SPEC_HEAD, \"cubic meters per day\""
   ]
  },
  {
   "cell_type": "code",
   "execution_count": 57,
   "metadata": {
    "collapsed": false
   },
   "outputs": [
    {
     "name": "stdout",
     "output_type": "stream",
     "text": [
      "Flux to Swamp (simulated) = 22570.4069674\n",
      "Flux to Swamp (no flow) =  20302.1100246\n",
      "Flux to Swamp (spec head) =  22569.7926217\n"
     ]
    }
   ],
   "source": [
    "#let's compare the three formulations:  \n",
    "#1) gw divide simulated; 2) gw divide as no flow BC; and 3) gw divide as specified head BC\n",
    "print \"Flux to Swamp (simulated) =\", FLUX_TO_SWAMP\n",
    "print \"Flux to Swamp (no flow) = \", FLUX_TO_SWAMP_NO_FLOW\n",
    "print \"Flux to Swamp (spec head) = \", FLUX_TO_SWAMP_SPEC_HEAD"
   ]
  },
  {
   "cell_type": "markdown",
   "metadata": {},
   "source": [
    "Why when the gw divide is simulated as a no-flow might the total flux to Green Swamp be different (and lower)?"
   ]
  },
  {
   "cell_type": "markdown",
   "metadata": {},
   "source": [
    "# P4.3 Part c.\n",
    "\n",
    "Run the model in part (a) again but this time use a HDB to represent the river. The stage of the river is 1000 m and the width is 500 m. The vertical hydraulic conductivity of the riverbed sediments is 5 m/day and the thickness of the sediments is 1 m. The elevation of the bottom of the sediments is 995 m. Compare results with those in part (a)."
   ]
  },
  {
   "cell_type": "code",
   "execution_count": 58,
   "metadata": {
    "collapsed": false
   },
   "outputs": [
    {
     "name": "stdout",
     "output_type": "stream",
     "text": [
      "[[[-1 -1 -1 -1 -1 -1 -1 -1 -1]\n",
      "  [ 1  1  1  1  1  1  1  1  1]\n",
      "  [ 1  1  1  1  1  1  1  1  1]\n",
      "  [ 1  1  1  1  1  1  1  1  1]\n",
      "  [ 1  1  1  1  1  1  1  1  1]\n",
      "  [ 1  1  1  1  1  1  1  1  1]\n",
      "  [ 1  1  1  1  1  1  1  1  1]\n",
      "  [ 1  1  1  1  1  1  1  1  1]\n",
      "  [ 1  1  1  1  1  1  1  1  1]\n",
      "  [ 1  1  1  1  1  1  1  1  1]\n",
      "  [ 1  1  1  1  1  1  1  1  1]\n",
      "  [ 1  1  1  1  1  1  1  1  1]\n",
      "  [ 1  1  1  1  1  1  1  1  1]\n",
      "  [ 1  1  1  1  1  1  1  1  1]\n",
      "  [ 1  1  1  1  1  1  1  1  1]\n",
      "  [ 1  1  1  1  1  1  1  1  1]\n",
      "  [ 1  1  1  1  1  1  1  1  1]\n",
      "  [ 1  1  1  1  1  1  1  1  1]\n",
      "  [ 1  1  1  1  1  1  1  1  1]\n",
      "  [ 1  1  1  1  1  1  1  1  1]\n",
      "  [ 1  1  1  1  1  1  1  1  1]\n",
      "  [-1 -1 -1 -1 -1 -1 -1 -1 -1]]]\n"
     ]
    }
   ],
   "source": [
    "#We have to recreate the IBOUND and STRT heads of Part a. \n",
    "#This is just copied directly from Part a. above to start clean\n",
    "# Variables for the BAS package\n",
    "IBOUND = np.ones((NLAY, NROW, NCOL), dtype=np.int32)  # all nodes are active (IBOUND = 1)\n",
    "\n",
    "# make the top of the profile specified head by setting the IBOUND = -1\n",
    "IBOUND[:, 0, :] = -1  #don't forget arrays are zero-based!\n",
    "IBOUND[:, -1, :] = -1  #-1 is Python for last in array\n",
    "print IBOUND"
   ]
  },
  {
   "cell_type": "code",
   "execution_count": 59,
   "metadata": {
    "collapsed": false
   },
   "outputs": [
    {
     "name": "stdout",
     "output_type": "stream",
     "text": [
      "[[[ 1  1  1  1  1  1  1  1  1]\n",
      "  [ 1  1  1  1  1  1  1  1  1]\n",
      "  [ 1  1  1  1  1  1  1  1  1]\n",
      "  [ 1  1  1  1  1  1  1  1  1]\n",
      "  [ 1  1  1  1  1  1  1  1  1]\n",
      "  [ 1  1  1  1  1  1  1  1  1]\n",
      "  [ 1  1  1  1  1  1  1  1  1]\n",
      "  [ 1  1  1  1  1  1  1  1  1]\n",
      "  [ 1  1  1  1  1  1  1  1  1]\n",
      "  [ 1  1  1  1  1  1  1  1  1]\n",
      "  [ 1  1  1  1  1  1  1  1  1]\n",
      "  [ 1  1  1  1  1  1  1  1  1]\n",
      "  [ 1  1  1  1  1  1  1  1  1]\n",
      "  [ 1  1  1  1  1  1  1  1  1]\n",
      "  [ 1  1  1  1  1  1  1  1  1]\n",
      "  [ 1  1  1  1  1  1  1  1  1]\n",
      "  [ 1  1  1  1  1  1  1  1  1]\n",
      "  [ 1  1  1  1  1  1  1  1  1]\n",
      "  [ 1  1  1  1  1  1  1  1  1]\n",
      "  [ 1  1  1  1  1  1  1  1  1]\n",
      "  [ 1  1  1  1  1  1  1  1  1]\n",
      "  [-1 -1 -1 -1 -1 -1 -1 -1 -1]]]\n"
     ]
    }
   ],
   "source": [
    "#BUT in Part c. the river to the north is a head-dependent BCs, not specified head\n",
    "#so we have to change it from -1 (specified head) to 1 (active cells)\n",
    "IBOUND[:, 0, :] = 1  #don't forget arrays are zero-based!\n",
    "print IBOUND"
   ]
  },
  {
   "cell_type": "code",
   "execution_count": 60,
   "metadata": {
    "collapsed": false
   },
   "outputs": [
    {
     "name": "stdout",
     "output_type": "stream",
     "text": [
      "[[[ 1015.  1015.  1015.  1015.  1015.  1015.  1015.  1015.  1015.]\n",
      "  [ 1015.  1015.  1015.  1015.  1015.  1015.  1015.  1015.  1015.]\n",
      "  [ 1015.  1015.  1015.  1015.  1015.  1015.  1015.  1015.  1015.]\n",
      "  [ 1015.  1015.  1015.  1015.  1015.  1015.  1015.  1015.  1015.]\n",
      "  [ 1015.  1015.  1015.  1015.  1015.  1015.  1015.  1015.  1015.]\n",
      "  [ 1015.  1015.  1015.  1015.  1015.  1015.  1015.  1015.  1015.]\n",
      "  [ 1015.  1015.  1015.  1015.  1015.  1015.  1015.  1015.  1015.]\n",
      "  [ 1015.  1015.  1015.  1015.  1015.  1015.  1015.  1015.  1015.]\n",
      "  [ 1015.  1015.  1015.  1015.  1015.  1015.  1015.  1015.  1015.]\n",
      "  [ 1015.  1015.  1015.  1015.  1015.  1015.  1015.  1015.  1015.]\n",
      "  [ 1015.  1015.  1015.  1015.  1015.  1015.  1015.  1015.  1015.]\n",
      "  [ 1015.  1015.  1015.  1015.  1015.  1015.  1015.  1015.  1015.]\n",
      "  [ 1015.  1015.  1015.  1015.  1015.  1015.  1015.  1015.  1015.]\n",
      "  [ 1015.  1015.  1015.  1015.  1015.  1015.  1015.  1015.  1015.]\n",
      "  [ 1015.  1015.  1015.  1015.  1015.  1015.  1015.  1015.  1015.]\n",
      "  [ 1015.  1015.  1015.  1015.  1015.  1015.  1015.  1015.  1015.]\n",
      "  [ 1015.  1015.  1015.  1015.  1015.  1015.  1015.  1015.  1015.]\n",
      "  [ 1015.  1015.  1015.  1015.  1015.  1015.  1015.  1015.  1015.]\n",
      "  [ 1015.  1015.  1015.  1015.  1015.  1015.  1015.  1015.  1015.]\n",
      "  [ 1015.  1015.  1015.  1015.  1015.  1015.  1015.  1015.  1015.]\n",
      "  [ 1015.  1015.  1015.  1015.  1015.  1015.  1015.  1015.  1015.]\n",
      "  [ 1000.  1000.  1000.  1000.  1000.  1000.  1000.  1000.  1000.]]]\n"
     ]
    }
   ],
   "source": [
    "#In the same way, we need to reset the Starting Head array, but only need \n",
    "# values set for the specified head boundary used for Green Swamp in the south\n",
    "STRT = 1015 * np.ones((NLAY, NROW, NCOL), dtype=np.float32)  # set starting head to 1010 m through out model domain\n",
    "STRT[:, -1, :] = 1000.     # wetland stage for setting constant head\n",
    "print STRT"
   ]
  },
  {
   "cell_type": "code",
   "execution_count": 61,
   "metadata": {
    "collapsed": false
   },
   "outputs": [
    {
     "name": "stdout",
     "output_type": "stream",
     "text": [
      "****Warning -- two packages of the same type:  <class 'flopy.modflow.mfbas.ModflowBas'> <class 'flopy.modflow.mfbas.ModflowBas'>\n",
      "replacing existing Package...\n"
     ]
    }
   ],
   "source": [
    "#we have to update the MODFLOW's BAS Package with the new IBOUND and STRT heads \n",
    "BAS_PACKAGE = flopy.modflow.ModflowBas(MF, ibound=IBOUND, strt=STRT)"
   ]
  },
  {
   "cell_type": "code",
   "execution_count": 62,
   "metadata": {
    "collapsed": false
   },
   "outputs": [
    {
     "name": "stdout",
     "output_type": "stream",
     "text": [
      "River sediment leakance = 5.0\n"
     ]
    }
   ],
   "source": [
    "#now we need to add a HDB - the RIV Package is a good choice\n",
    "#recall that a RIV node has a river stage, a conductance, and a bottom elevation\n",
    "RIV_STAGE = 1000.\n",
    "Kv_RIVER = 5.\n",
    "b_RIVER = 1.\n",
    "WIDTH_RIVER = 500.\n",
    "SED_BOT_RIVER = 995.\n",
    "# conductance = leakance x cross-sectional area\n",
    "# leakance = Kv/b\n",
    "RIV_LEAKANCE = Kv_RIVER / b_RIVER\n",
    "print \"River sediment leakance =\", RIV_LEAKANCE\n"
   ]
  },
  {
   "cell_type": "code",
   "execution_count": 63,
   "metadata": {
    "collapsed": false
   },
   "outputs": [
    {
     "name": "stdout",
     "output_type": "stream",
     "text": [
      "DELR =  500.0\n",
      "River width = 500.0\n",
      "River area in node = 250000.0\n"
     ]
    }
   ],
   "source": [
    "#area is the nodal area, DELR x DELC which was entered above\n",
    "print \"DELR = \", DELR\n",
    "print \"River width =\", WIDTH_RIVER\n",
    "print \"River area in node =\", DELR * WIDTH_RIVER"
   ]
  },
  {
   "cell_type": "code",
   "execution_count": 64,
   "metadata": {
    "collapsed": false
   },
   "outputs": [
    {
     "name": "stdout",
     "output_type": "stream",
     "text": [
      "River Conductance = 1250000.0\n"
     ]
    }
   ],
   "source": [
    "#conductance is leakance x area\n",
    "RIV_COND = RIV_LEAKANCE * DELR * WIDTH_RIVER\n",
    "print 'River Conductance =', RIV_COND"
   ]
  },
  {
   "cell_type": "code",
   "execution_count": 65,
   "metadata": {
    "collapsed": false
   },
   "outputs": [
    {
     "name": "stdout",
     "output_type": "stream",
     "text": [
      "[[0, 0, 0, 1000.0, 1250000.0, 995.0], [0, 0, 1, 1000.0, 1250000.0, 995.0], [0, 0, 2, 1000.0, 1250000.0, 995.0], [0, 0, 3, 1000.0, 1250000.0, 995.0], [0, 0, 4, 1000.0, 1250000.0, 995.0], [0, 0, 5, 1000.0, 1250000.0, 995.0], [0, 0, 6, 1000.0, 1250000.0, 995.0], [0, 0, 7, 1000.0, 1250000.0, 995.0], [0, 0, 8, 1000.0, 1250000.0, 995.0]]\n"
     ]
    }
   ],
   "source": [
    "#We enter RIV Package data by \"layer-row-column-data\" = lrcd\n",
    "stress_period_data = [\n",
    "                      [0, 0, 0, RIV_STAGE, RIV_COND, SED_BOT_RIVER],   #layer, row, column, stage conductance, river bottom\n",
    "                      [0, 0, 1, RIV_STAGE, RIV_COND, SED_BOT_RIVER],   #remember Python indexing is zero based\n",
    "                      [0, 0, 2, RIV_STAGE, RIV_COND, SED_BOT_RIVER],\n",
    "                      [0, 0, 3, RIV_STAGE, RIV_COND, SED_BOT_RIVER],\n",
    "                      [0, 0, 4, RIV_STAGE, RIV_COND, SED_BOT_RIVER],\n",
    "                      [0, 0, 5, RIV_STAGE, RIV_COND, SED_BOT_RIVER],\n",
    "                      [0, 0, 6, RIV_STAGE, RIV_COND, SED_BOT_RIVER],\n",
    "                      [0, 0, 7, RIV_STAGE, RIV_COND, SED_BOT_RIVER], \n",
    "                      [0, 0, 8, RIV_STAGE, RIV_COND, SED_BOT_RIVER]]\n",
    "\n",
    "\n",
    "\n",
    "print stress_period_data"
   ]
  },
  {
   "cell_type": "code",
   "execution_count": 66,
   "metadata": {
    "collapsed": true
   },
   "outputs": [],
   "source": [
    "riv = flopy.modflow.ModflowRiv(MF, stress_period_data=stress_period_data)"
   ]
  },
  {
   "cell_type": "code",
   "execution_count": 67,
   "metadata": {
    "collapsed": false
   },
   "outputs": [
    {
     "name": "stdout",
     "output_type": "stream",
     "text": [
      "Deleted:  P4-3.bas\n",
      "Deleted:  P4-3.cbc\n",
      "Deleted:  P4-3.ddn\n",
      "Deleted:  P4-3.dis\n",
      "Deleted:  P4-3.hds\n",
      "Deleted:  P4-3.list\n",
      "Deleted:  P4-3.lpf\n",
      "Deleted:  P4-3.nam\n",
      "Deleted:  P4-3.oc\n",
      "Deleted:  P4-3.pcg\n",
      "Deleted:  P4-3.rch\n",
      "Deleted:  P4-3.wel\n"
     ]
    }
   ],
   "source": [
    "#delete old files to prevent us from reading old results\n",
    "modelfiles = os.listdir(modelpath)\n",
    "for filename in modelfiles:\n",
    "    f = os.path.join(modelpath, filename)\n",
    "    if modelname in f:\n",
    "        try:\n",
    "            os.remove(f)\n",
    "            print 'Deleted: ', filename\n",
    "        except:\n",
    "            print 'Unable to delete: ', filename"
   ]
  },
  {
   "cell_type": "code",
   "execution_count": 68,
   "metadata": {
    "collapsed": false
   },
   "outputs": [
    {
     "name": "stdout",
     "output_type": "stream",
     "text": [
      "New MODFLOW input files =  ['P4-3.bas', 'P4-3.cbc', 'P4-3.ddn', 'P4-3.dis', 'P4-3.hds', 'P4-3.list', 'P4-3.lpf', 'P4-3.nam', 'P4-3.oc', 'P4-3.pcg', 'P4-3.rch', 'P4-3.wel']\n",
      "You can check the newly created files in /Users/rjhunt1/GitHub/Chapter_4_problems-1/P4-3_Hubbertville\n"
     ]
    }
   ],
   "source": [
    "#Now write the model input files\n",
    "MF.write_input()\n",
    "print \"New MODFLOW input files = \", modelfiles\n",
    "print \"You can check the newly created files in\", modelpath\n"
   ]
  },
  {
   "cell_type": "code",
   "execution_count": 69,
   "metadata": {
    "collapsed": false
   },
   "outputs": [
    {
     "name": "stdout",
     "output_type": "stream",
     "text": [
      "FloPy is using the following executable to run the model: /Users/rjhunt1/GitHub/Chapter_4_problems-1/mf2005\n",
      "\n",
      "                                  MODFLOW-2005     \n",
      "    U.S. GEOLOGICAL SURVEY MODULAR FINITE-DIFFERENCE GROUND-WATER FLOW MODEL\n",
      "                             Version 1.11.00 8/8/2013                        \n",
      "\n",
      " Using NAME file: P4-3.nam \n",
      " Run start date and time (yyyy/mm/dd hh:mm:ss): 2015/09/04 16:18:27\n",
      "\n",
      " Solving:  Stress period:     1    Time step:     1    Ground-Water Flow Eqn.\n",
      " Run end date and time (yyyy/mm/dd hh:mm:ss): 2015/09/04 16:18:27\n",
      " Elapsed run time:  0.007 Seconds\n",
      "\n",
      "  Normal termination of simulation\n"
     ]
    }
   ],
   "source": [
    "#rerun MODFLOW-2005\n",
    "silent = False  #Print model output to screen?\n",
    "pause = False   #Require user to hit enter? Doesn't mean much in Ipython notebook\n",
    "report = True   #Store the output from the model in buff\n",
    "success, buff = MF.run_model(silent=silent, pause=pause, report=report)\n"
   ]
  },
  {
   "cell_type": "code",
   "execution_count": 70,
   "metadata": {
    "collapsed": false
   },
   "outputs": [
    {
     "name": "stdout",
     "output_type": "stream",
     "text": [
      "Headfile (P4-3.hds) contains the following list of times:  [1.0]\n"
     ]
    },
    {
     "data": {
      "text/plain": [
       "[<matplotlib.lines.Line2D at 0x1082defd0>]"
      ]
     },
     "execution_count": 70,
     "metadata": {},
     "output_type": "execute_result"
    },
    {
     "data": {
      "image/png": "[encoded data removed]",
      "text/plain": [
       "<matplotlib.figure.Figure at 0x1062adc90>"
      ]
     },
     "metadata": {},
     "output_type": "display_data"
    },
    {
     "data": {
      "image/png": "[encoded data removed]",
      "text/plain": [
       "<matplotlib.figure.Figure at 0x10825f910>"
      ]
     },
     "metadata": {},
     "output_type": "display_data"
    }
   ],
   "source": [
    "#As before, let's look at the results and compare to P4-3 Part a.\n",
    "#imports for plotting and reading the MODFLOW binary output file\n",
    "import matplotlib.pyplot as plt\n",
    "import flopy.utils.binaryfile as bf\n",
    "\n",
    "#Create the headfile object and grab the results for last time.\n",
    "headfile = os.path.join(modelpath, modelname + '.hds')\n",
    "headfileobj = bf.HeadFile(headfile)\n",
    "\n",
    "#Get a list of times that are contained in the model\n",
    "times = headfileobj.get_times()\n",
    "print 'Headfile (' + modelname + '.hds' + ') contains the following list of times: ', times\n",
    "\n",
    "#Get a numpy array of heads for totim = 1.0\n",
    "#The get_data method will extract head data from the binary file.\n",
    "HEAD = headfileobj.get_data(totim=1.0)\n",
    "\n",
    "#Create a contour plot of heads\n",
    "FIG = plt.figure(figsize=(15,13))\n",
    "\n",
    "#setup contour levels and plot extent\n",
    "LEVELS = np.arange(1000., 1011., 0.5)\n",
    "EXTENT = (DELR/2., LX - DELR/2., DELC/2., LY - DELC/2.)\n",
    "\n",
    "#Make a contour plot on the first axis\n",
    "AX1 = FIG.add_subplot(1, 2, 1, aspect='equal')\n",
    "AX1.set_xlabel(\"x\")\n",
    "AX1.set_ylabel(\"y\")\n",
    "YTICKS = np.arange(0, 11000, 500)\n",
    "AX1.set_yticks(YTICKS)\n",
    "AX1.set_title(\"Hubbertville contour map\")\n",
    "AX1.text(2000, 10500, r\"River\", fontsize=10, color=\"blue\")\n",
    "AX1.text(1800, 340, r\"Green Swamp\", fontsize=10, color=\"green\")\n",
    "AX1.contour(np.flipud(HEAD[0, :, :]), levels=LEVELS, extent=EXTENT)\n",
    "\n",
    "#Make a color flood on the second axis\n",
    "AX2 = FIG.add_subplot(1, 2, 2, aspect='equal')\n",
    "AX2.set_xlabel(\"x\")\n",
    "AX2.set_ylabel(\"y\")\n",
    "AX2.set_yticks(YTICKS)\n",
    "AX2.set_title(\"Hubbertville color flood\")\n",
    "AX2.text(2000, 10500, r\"River\", fontsize=10, color=\"black\")\n",
    "AX2.text(1800, 340, r\"Green Swamp\", fontsize=10, color=\"black\")\n",
    "cax = AX2.imshow(HEAD[0, :, :], extent=EXTENT, interpolation='nearest', vmin=998.2)\n",
    "cbar = FIG.colorbar(cax, orientation='vertical', shrink=0.45)\n",
    "\n",
    "#as before let's plot a north-south cross section\n",
    "COL = 4\n",
    "# recall we need to flip because MODFLOW's array does not = Python, so we reverse the order (flip them) and call it \n",
    "Y = np.flipud(HEAD[0,:,COL])\n",
    "#for our cross section create X-coordinates to match with heads\n",
    "XCOORD = np.arange(0, 11000, 500) + 250\n",
    "fig = plt.figure(figsize=(10, 5))\n",
    "ax = fig.add_subplot(1, 1, 1)\n",
    "TITLE =  'cross section of head along Column = ({0})'.format(COL)\n",
    "ax.set_title(TITLE)\n",
    "ax.set_xlabel('y')\n",
    "ax.set_ylabel('head')\n",
    "ax.set_xlim(0, 11000.)\n",
    "ax.set_ylim(980.,1020.)\n",
    "ax.text(10480, 998, r\"River\", fontsize=10, color=\"blue\",rotation='vertical')\n",
    "ax.text(300, 998, r\"Green Swamp\", fontsize=10, color=\"green\",rotation='vertical')\n",
    "ax.text(5400,1007., r\"Groundwater Divide\", fontsize=10, color=\"black\",rotation='vertical')\n",
    "ax.plot(XCOORD, Y)"
   ]
  },
  {
   "cell_type": "code",
   "execution_count": 71,
   "metadata": {
    "collapsed": false
   },
   "outputs": [
    {
     "name": "stdout",
     "output_type": "stream",
     "text": [
      "Head statistics\n",
      "  min:  1000.0\n",
      "  max:  1010.83\n",
      "  std:  3.46995\n"
     ]
    }
   ],
   "source": [
    "#Print statistics on the head\n",
    "print 'Head statistics'\n",
    "print '  min: ', HEAD.min()\n",
    "print '  max: ', HEAD.max()\n",
    "print '  std: ', HEAD.std()"
   ]
  },
  {
   "cell_type": "markdown",
   "metadata": {},
   "source": [
    "# P4.3 Part d.\n",
    "Run the model in part (c) again but this time assume the width of the river is 5 m. What is the effect of reducing the width of the river?"
   ]
  },
  {
   "cell_type": "code",
   "execution_count": 72,
   "metadata": {
    "collapsed": false
   },
   "outputs": [
    {
     "name": "stdout",
     "output_type": "stream",
     "text": [
      "DELR =  500.0\n",
      "River width = 5.0\n",
      "River area in node = 2500.0\n",
      "River Leakance =  5.0\n",
      "River Conductance = 12500.0\n"
     ]
    }
   ],
   "source": [
    "WIDTH_RIVER = 5.\n",
    "#area is the nodal area, DELR x DELC which was entered above\n",
    "print \"DELR = \", DELR\n",
    "print \"River width =\", WIDTH_RIVER\n",
    "print \"River area in node =\", DELR * WIDTH_RIVER\n",
    "#conductance is leakance x area\n",
    "print 'River Leakance = ', RIV_LEAKANCE\n",
    "RIV_COND = RIV_LEAKANCE * DELR * WIDTH_RIVER\n",
    "print 'River Conductance =', RIV_COND"
   ]
  },
  {
   "cell_type": "code",
   "execution_count": 73,
   "metadata": {
    "collapsed": false
   },
   "outputs": [
    {
     "name": "stdout",
     "output_type": "stream",
     "text": [
      "[[0, 0, 0, 1000.0, 12500.0, 995.0], [0, 0, 1, 1000.0, 12500.0, 995.0], [0, 0, 2, 1000.0, 12500.0, 995.0], [0, 0, 3, 1000.0, 12500.0, 995.0], [0, 0, 4, 1000.0, 12500.0, 995.0], [0, 0, 5, 1000.0, 12500.0, 995.0], [0, 0, 6, 1000.0, 12500.0, 995.0], [0, 0, 7, 1000.0, 12500.0, 995.0], [0, 0, 8, 1000.0, 12500.0, 995.0]]\n"
     ]
    }
   ],
   "source": [
    "#We enter RIV Package data by \"layer-row-column-data\" = lrcd\n",
    "stress_period_data = [\n",
    "                      [0, 0, 0, RIV_STAGE, RIV_COND, SED_BOT_RIVER],   #layer, row, column, stage conductance, river bottom\n",
    "                      [0, 0, 1, RIV_STAGE, RIV_COND, SED_BOT_RIVER],   #remember Python indexing is zero based\n",
    "                      [0, 0, 2, RIV_STAGE, RIV_COND, SED_BOT_RIVER],\n",
    "                      [0, 0, 3, RIV_STAGE, RIV_COND, SED_BOT_RIVER],\n",
    "                      [0, 0, 4, RIV_STAGE, RIV_COND, SED_BOT_RIVER],\n",
    "                      [0, 0, 5, RIV_STAGE, RIV_COND, SED_BOT_RIVER],\n",
    "                      [0, 0, 6, RIV_STAGE, RIV_COND, SED_BOT_RIVER],\n",
    "                      [0, 0, 7, RIV_STAGE, RIV_COND, SED_BOT_RIVER], \n",
    "                      [0, 0, 8, RIV_STAGE, RIV_COND, SED_BOT_RIVER]]\n",
    "\n",
    "\n",
    "\n",
    "print stress_period_data"
   ]
  },
  {
   "cell_type": "code",
   "execution_count": 74,
   "metadata": {
    "collapsed": false
   },
   "outputs": [
    {
     "name": "stdout",
     "output_type": "stream",
     "text": [
      "****Warning -- two packages of the same type:  <class 'flopy.modflow.mfriv.ModflowRiv'> <class 'flopy.modflow.mfriv.ModflowRiv'>\n",
      "replacing existing Package...\n",
      "Deleted:  P4-3.bas\n",
      "Deleted:  P4-3.cbc\n",
      "Deleted:  P4-3.ddn\n",
      "Deleted:  P4-3.dis\n",
      "Deleted:  P4-3.hds\n",
      "Deleted:  P4-3.list\n",
      "Deleted:  P4-3.lpf\n",
      "Deleted:  P4-3.nam\n",
      "Deleted:  P4-3.oc\n",
      "Deleted:  P4-3.pcg\n",
      "Deleted:  P4-3.rch\n",
      "Deleted:  P4-3.riv\n",
      "Deleted:  P4-3.wel\n"
     ]
    }
   ],
   "source": [
    "riv = flopy.modflow.ModflowRiv(MF, stress_period_data=stress_period_data)\n",
    "#delete old files to prevent us from reading old results\n",
    "modelfiles = os.listdir(modelpath)\n",
    "for filename in modelfiles:\n",
    "    f = os.path.join(modelpath, filename)\n",
    "    if modelname in f:\n",
    "        try:\n",
    "            os.remove(f)\n",
    "            print 'Deleted: ', filename\n",
    "        except:\n",
    "            print 'Unable to delete: ', filename\n",
    "            "
   ]
  },
  {
   "cell_type": "code",
   "execution_count": 75,
   "metadata": {
    "collapsed": false
   },
   "outputs": [
    {
     "name": "stdout",
     "output_type": "stream",
     "text": [
      "New MODFLOW input files =  ['P4-3.bas', 'P4-3.cbc', 'P4-3.ddn', 'P4-3.dis', 'P4-3.hds', 'P4-3.list', 'P4-3.lpf', 'P4-3.nam', 'P4-3.oc', 'P4-3.pcg', 'P4-3.rch', 'P4-3.riv', 'P4-3.wel']\n",
      "You can check the newly created files in /Users/rjhunt1/GitHub/Chapter_4_problems-1/P4-3_Hubbertville\n",
      "FloPy is using the following executable to run the model: /Users/rjhunt1/GitHub/Chapter_4_problems-1/mf2005\n",
      "\n",
      "                                  MODFLOW-2005     \n",
      "    U.S. GEOLOGICAL SURVEY MODULAR FINITE-DIFFERENCE GROUND-WATER FLOW MODEL\n",
      "                             Version 1.11.00 8/8/2013                        \n",
      "\n",
      " Using NAME file: P4-3.nam \n",
      " Run start date and time (yyyy/mm/dd hh:mm:ss): 2015/09/04 16:18:29\n",
      "\n",
      " Solving:  Stress period:     1    Time step:     1    Ground-Water Flow Eqn.\n",
      " Run end date and time (yyyy/mm/dd hh:mm:ss): 2015/09/04 16:18:29\n",
      " Elapsed run time:  0.006 Seconds\n",
      "\n",
      "  Normal termination of simulation\n"
     ]
    }
   ],
   "source": [
    "#Now write the model input files and rerun MODFLOW\n",
    "MF.write_input()\n",
    "print \"New MODFLOW input files = \", modelfiles\n",
    "print \"You can check the newly created files in\", modelpath\n",
    "#rerun MODFLOW-2005\n",
    "silent = False  #Print model output to screen?\n",
    "pause = False   #Require user to hit enter? Doesn't mean much in Ipython notebook\n",
    "report = True   #Store the output from the model in buff\n",
    "success, buff = MF.run_model(silent=silent, pause=pause, report=report)\n"
   ]
  },
  {
   "cell_type": "code",
   "execution_count": 76,
   "metadata": {
    "collapsed": false
   },
   "outputs": [
    {
     "name": "stdout",
     "output_type": "stream",
     "text": [
      "Headfile (P4-3.hds) contains the following list of times:  [1.0]\n"
     ]
    },
    {
     "data": {
      "text/plain": [
       "[<matplotlib.lines.Line2D at 0x108c47490>]"
      ]
     },
     "execution_count": 76,
     "metadata": {},
     "output_type": "execute_result"
    },
    {
     "data": {
      "image/png": "[encoded data removed]",
      "text/plain": [
       "<matplotlib.figure.Figure at 0x108266a50>"
      ]
     },
     "metadata": {},
     "output_type": "display_data"
    },
    {
     "data": {
      "image/png": "[encoded data removed]",
      "text/plain": [
       "<matplotlib.figure.Figure at 0x108bbbd90>"
      ]
     },
     "metadata": {},
     "output_type": "display_data"
    }
   ],
   "source": [
    "#As before, let's look at the results and compare to P4-3 Part a.\n",
    "#imports for plotting and reading the MODFLOW binary output file\n",
    "import matplotlib.pyplot as plt\n",
    "import flopy.utils.binaryfile as bf\n",
    "\n",
    "#Create the headfile object and grab the results for last time.\n",
    "headfile = os.path.join(modelpath, modelname + '.hds')\n",
    "headfileobj = bf.HeadFile(headfile)\n",
    "\n",
    "#Get a list of times that are contained in the model\n",
    "times = headfileobj.get_times()\n",
    "print 'Headfile (' + modelname + '.hds' + ') contains the following list of times: ', times\n",
    "\n",
    "#Get a numpy array of heads for totim = 1.0\n",
    "#The get_data method will extract head data from the binary file.\n",
    "HEAD = headfileobj.get_data(totim=1.0)\n",
    "\n",
    "#Create a contour plot of heads\n",
    "FIG = plt.figure(figsize=(15,13))\n",
    "\n",
    "#setup contour levels and plot extent\n",
    "LEVELS = np.arange(1000., 1011., 0.5)\n",
    "EXTENT = (DELR/2., LX - DELR/2., DELC/2., LY - DELC/2.)\n",
    "\n",
    "#Make a contour plot on the first axis\n",
    "AX1 = FIG.add_subplot(1, 2, 1, aspect='equal')\n",
    "AX1.set_xlabel(\"x\")\n",
    "AX1.set_ylabel(\"y\")\n",
    "YTICKS = np.arange(0, 11000, 500)\n",
    "AX1.set_yticks(YTICKS)\n",
    "AX1.set_title(\"Hubbertville contour map\")\n",
    "AX1.text(2000, 10500, r\"River\", fontsize=10, color=\"blue\")\n",
    "AX1.text(1800, 340, r\"Green Swamp\", fontsize=10, color=\"green\")\n",
    "AX1.contour(np.flipud(HEAD[0, :, :]), levels=LEVELS, extent=EXTENT)\n",
    "\n",
    "#Make a color flood on the second axis\n",
    "AX2 = FIG.add_subplot(1, 2, 2, aspect='equal')\n",
    "AX2.set_xlabel(\"x\")\n",
    "AX2.set_ylabel(\"y\")\n",
    "AX2.set_yticks(YTICKS)\n",
    "AX2.set_title(\"Hubbertville color flood\")\n",
    "AX2.text(2000, 10500, r\"River\", fontsize=10, color=\"black\")\n",
    "AX2.text(1800, 340, r\"Green Swamp\", fontsize=10, color=\"black\")\n",
    "cax = AX2.imshow(HEAD[0, :, :], extent=EXTENT, interpolation='nearest', vmin=998.2)\n",
    "cbar = FIG.colorbar(cax, orientation='vertical', shrink=0.45)\n",
    "\n",
    "#as before let's plot a north-south cross section\n",
    "COL = 4\n",
    "# recall we need to flip because MODFLOW's array does not = Python, so we reverse the order (flip them) and call it \n",
    "Y = np.flipud(HEAD[0,:,COL])\n",
    "#for our cross section create X-coordinates to match with heads\n",
    "XCOORD = np.arange(0, 11000, 500) + 250\n",
    "fig = plt.figure(figsize=(10, 5))\n",
    "ax = fig.add_subplot(1, 1, 1)\n",
    "TITLE =  'cross section of head along Column = ({0})'.format(COL)\n",
    "ax.set_title(TITLE)\n",
    "ax.set_xlabel('y')\n",
    "ax.set_ylabel('head')\n",
    "ax.set_xlim(0, 11000.)\n",
    "ax.set_ylim(980.,1020.)\n",
    "ax.text(10480, 998, r\"River\", fontsize=10, color=\"blue\",rotation='vertical')\n",
    "ax.text(300, 998, r\"Green Swamp\", fontsize=10, color=\"green\",rotation='vertical')\n",
    "ax.text(5400,1007., r\"Groundwater Divide\", fontsize=10, color=\"black\",rotation='vertical')\n",
    "ax.plot(XCOORD, Y)"
   ]
  },
  {
   "cell_type": "code",
   "execution_count": 77,
   "metadata": {
    "collapsed": false
   },
   "outputs": [
    {
     "name": "stdout",
     "output_type": "stream",
     "text": [
      "Head statistics\n",
      "  min:  1000.0\n",
      "  max:  1010.91\n",
      "  std:  3.45877\n"
     ]
    }
   ],
   "source": [
    "#Print statistics on the head\n",
    "print 'Head statistics'\n",
    "print '  min: ', HEAD.min()\n",
    "print '  max: ', HEAD.max()\n",
    "print '  std: ', HEAD.std()"
   ]
  },
  {
   "cell_type": "markdown",
   "metadata": {
    "collapsed": true
   },
   "source": [
    "How different are the results from the two river widths?  Why might this be?"
   ]
  },
  {
   "cell_type": "code",
   "execution_count": null,
   "metadata": {
    "collapsed": true
   },
   "outputs": [],
   "source": []
  }
 ],
 "metadata": {
  "kernelspec": {
   "display_name": "Python 2",
   "language": "python",
   "name": "python2"
  },
  "language_info": {
   "codemirror_mode": {
    "name": "ipython",
    "version": 2
   },
   "file_extension": ".py",
   "mimetype": "text/x-python",
   "name": "python",
   "nbconvert_exporter": "python",
   "pygments_lexer": "ipython2",
   "version": "2.7.10"
  }
 },
 "nbformat": 4,
 "nbformat_minor": 0
}
