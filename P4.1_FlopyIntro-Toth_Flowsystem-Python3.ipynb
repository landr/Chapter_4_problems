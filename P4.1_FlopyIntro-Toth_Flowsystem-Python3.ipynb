{
 "cells": [
  {
   "cell_type": "markdown",
   "metadata": {},
   "source": [
    "<img src=\"AW&H2015.tiff\" style=\"float: left\">\n",
    "\n",
    "<img src=\"flopylogo.png\" style=\"float: center\">\n",
    "\n",
    "# Problem P4.1 Flopy Background and Toth (1962) Flow System\n",
    "\n",
    "Pages 171-172 of Anderson Woessner and Hunt (2015) describe classic groundwater flow problem, that of Toth (1962).  In this iPython notebook we will build, run, and visualize this problem.  In order to do this with less programming, we will also take advantage of a powerful set of Python tools called \"Flopy\" developed for the USGS groundwater flow MODFLOW. Flopy is a set of python scripts for writing MODFLOW data sets and reading MODFLOW binary output files.  Flopy Version 3 is served from Github and can be accessed [here](https://github.com/modflowpy/flopy \"Flopy Website\").  \n",
    "\n",
    "Some things to keep in mind:\n",
    "* Flopy is still in development.  It works for many MODFLOW packages.  It also  works for MT3DMS and SEAWAT.  Some package options, and some packages, however, are not supported yet.\n",
    "* Flopy is primarily a writer and reader of MODFLOW data sets.  It does not intersect grids with spatial features, or perform time series interpolation.  It is up to the user to do this.  As part of this class, we will show how this can be done within the Python environment.\n",
    "* Preliminary documentation for Flopy can be accessed [here](http://modflowpy.github.io/flopydoc/ \"Flopy Documentation\").\n",
    "\n",
    "This tutorial is based on the Toth (1962). Anderson et al. simpflied the cross-sectional view to look like this:\n",
    "\n",
    "<img src=\"P4.1_figure.tiff\" style=\"float: center\">\n",
    "\n",
    "\n",
    "Below is an iPython Notebook that builds a MODFLOW model of the Toth (1962) flow system and plots results. See the Github wiki associated with this Chapter for information on one suggested installation and setup configuration for Python and iPython Notebook.\n",
    "\n",
    "[Acknowledgements: This tutorial was created by Randy Hunt and all failings are mine.  The exercise here has benefited greatly from the online Flopy tutorial and example notebooks developed by Chris Langevin and Joe Hughes for the USGS Spring 2015 Python Training course GW1774]"
   ]
  },
  {
   "cell_type": "markdown",
   "metadata": {},
   "source": [
    "## Creating the Model\n",
    "In this example, we will create a simple groundwater flow model by following the tutorial included on the Flopy website.  We will make a few small changes  so that the tutorial works with our file structure.\n",
    "\n",
    "Visit the tutorial website [here](http://modflowpy.github.io/flopydoc/tutorial1.html \"tutorial\")."
   ]
  },
  {
   "cell_type": "markdown",
   "metadata": {},
   "source": [
    "### Setup the Notebook Environment and Import Flopy\n",
    "Load a few standard libraries, and then load flopy."
   ]
  },
  {
   "cell_type": "code",
   "execution_count": 1,
   "metadata": {},
   "outputs": [
    {
     "name": "stdout",
     "output_type": "stream",
     "text": [
      "flopy is installed in /Users/rjhunt1/GitHub/flopy/flopy\n"
     ]
    }
   ],
   "source": [
    "%matplotlib inline\n",
    "import sys\n",
    "import os\n",
    "import shutil\n",
    "import numpy as np\n",
    "from subprocess import check_output\n",
    "\n",
    "# Import flopy\n",
    "import flopy"
   ]
  },
  {
   "cell_type": "markdown",
   "metadata": {},
   "source": [
    "### Setup a New Directory and Change Paths\n",
    "For this tutorial, we will work in the 21_FlopyIntro directory, which is located up one folder and over to the Data folder.  We can use some fancy Python tools to help us manage the directory creation.  Note that if you encounter path problems with this workbook, you can stop and then restart the kernel and the paths will be reset."
   ]
  },
  {
   "cell_type": "code",
   "execution_count": 2,
   "metadata": {},
   "outputs": [
    {
     "name": "stdout",
     "output_type": "stream",
     "text": [
      "Name of model path:  /Users/rjhunt1/GitHub/Chapter_4_problems-1/P4-1_Toth\n",
      "Model working directory already exists.\n"
     ]
    }
   ],
   "source": [
    "# Set the name of the path to the model working directory\n",
    "dirname = \"P4-1_Toth\"\n",
    "datapath = os.getcwd()\n",
    "modelpath = os.path.join(datapath, dirname)\n",
    "print ('Name of model path: ', modelpath)\n",
    "\n",
    "# Now let's check if this directory exists.  If not, then we will create it.\n",
    "if os.path.exists(modelpath):\n",
    "    print ('Model working directory already exists.')\n",
    "else:\n",
    "    print ('Creating model working directory.')\n",
    "    os.mkdir(modelpath)"
   ]
  },
  {
   "cell_type": "markdown",
   "metadata": {},
   "source": [
    "### Define the Model Extent, Grid Resolution, and Characteristics\n",
    "It is normally good practice to group things that you might want to change into a single code block.  This makes it easier to make changes and rerun the code."
   ]
  },
  {
   "cell_type": "code",
   "execution_count": 4,
   "metadata": {},
   "outputs": [
    {
     "name": "stdout",
     "output_type": "stream",
     "text": [
      "DELR = 20.0   DELC = 20.0   DELV = 1.0\n",
      "BOTM = [ 1.  0.]\n"
     ]
    }
   ],
   "source": [
    "# model domain and grid definition\n",
    "# for clarity, user entered variables are all caps; python syntax are lower case or mixed case\n",
    "# we will use a layer orientation profile for easy plotting (see Box 4.2 on page 126)\n",
    "LX = 200.\n",
    "LY = 100.\n",
    "ZTOP = 1.  # the \"thickness\" of the profile will be 1 m (= ZTOP - ZBOT)\n",
    "ZBOT = 0.\n",
    "NLAY = 1\n",
    "NROW = 5\n",
    "NCOL = 10\n",
    "DELR = LX / NCOL  # recall that MODFLOW convention is DELR is along a row, thus has items = NCOL; see page XXX in AW&H (2015)\n",
    "DELC = LY / NROW  # recall that MODFLOW convention is DELC is along a column, thus has items = NROW; see page XXX in AW&H (2015)\n",
    "DELV = (ZTOP - ZBOT) / NLAY\n",
    "BOTM = np.linspace(ZTOP, ZBOT, NLAY + 1)\n",
    "HK = 10.\n",
    "VKA = 1.\n",
    "print (\"DELR =\", DELR, \"  DELC =\", DELC, '  DELV =', DELV)\n",
    "print (\"BOTM =\", BOTM)\n"
   ]
  },
  {
   "cell_type": "markdown",
   "metadata": {},
   "source": [
    "### Create the MODFLOW Model Object\n",
    "Create a flopy MODFLOW object: [flopy.modflow.Modflow](http://modflowpy.github.io/flopydoc/mf.html)."
   ]
  },
  {
   "cell_type": "code",
   "execution_count": 7,
   "metadata": {},
   "outputs": [
    {
     "name": "stdout",
     "output_type": "stream",
     "text": [
      "Model executable:  /Users/rjhunt1/GitHub/Chapter_4_problems-1/mf2005\n"
     ]
    }
   ],
   "source": [
    "# Assign name and create modflow model object\n",
    "modelname = 'P4-1'\n",
    "exe_name = os.path.join(datapath, 'mf2005')\n",
    "print ('Model executable: ', exe_name)\n",
    "MF = flopy.modflow.Modflow(modelname, exe_name=exe_name, model_ws=modelpath)"
   ]
  },
  {
   "cell_type": "markdown",
   "metadata": {},
   "source": [
    "### Discretization Package\n",
    "Create a flopy discretization package object: [flopy.modflow.ModflowDis](http://modflowpy.github.io/flopydoc/mfdis.html)."
   ]
  },
  {
   "cell_type": "code",
   "execution_count": 8,
   "metadata": {
    "collapsed": true
   },
   "outputs": [],
   "source": [
    "# Create the discretization object\n",
    "TOP = np.ones((NROW, NCOL),dtype=np.float)"
   ]
  },
  {
   "cell_type": "code",
   "execution_count": 16,
   "metadata": {},
   "outputs": [
    {
     "name": "stdout",
     "output_type": "stream",
     "text": [
      "WARNING: unit 11 of package DIS already in use\n",
      "****Warning -- two packages of the same type:  <class 'flopy.modflow.mfdis.ModflowDis'> <class 'flopy.modflow.mfdis.ModflowDis'>\n",
      "replacing existing Package...\n"
     ]
    }
   ],
   "source": [
    "DIS_PACKAGE = flopy.modflow.ModflowDis(MF, NLAY, NROW, NCOL, delr=DELR, delc=DELC,\n",
    "                               top=TOP, botm=BOTM[1:], laycbd=0)\n",
    "#print (DIS_PACKAGE) #uncomment this by removing first # to see information about this DIS flopy object"
   ]
  },
  {
   "cell_type": "markdown",
   "metadata": {},
   "source": [
    "### Basic Package\n",
    "Create a flopy basic package object: [flopy.modflow.ModflowBas](http://modflowpy.github.io/flopydoc/mfbas.html)."
   ]
  },
  {
   "cell_type": "code",
   "execution_count": 11,
   "metadata": {},
   "outputs": [
    {
     "name": "stdout",
     "output_type": "stream",
     "text": [
      "[[[-1 -1 -1 -1 -1 -1 -1 -1 -1 -1]\n",
      "  [ 1  1  1  1  1  1  1  1  1  1]\n",
      "  [ 1  1  1  1  1  1  1  1  1  1]\n",
      "  [ 1  1  1  1  1  1  1  1  1  1]\n",
      "  [ 1  1  1  1  1  1  1  1  1  1]]]\n"
     ]
    }
   ],
   "source": [
    "# Variables for the BAS package\n",
    "IBOUND = np.ones((NLAY, NROW, NCOL), dtype=np.int32)  # all nodes are active (IBOUND = 1)\n",
    "\n",
    "# make the top of the profile specified head by setting the IBOUND = -1\n",
    "IBOUND[:, 0, :] = -1  #don't forget arrays are zero-based!\n",
    "\n",
    "print (IBOUND)"
   ]
  },
  {
   "cell_type": "code",
   "execution_count": 17,
   "metadata": {},
   "outputs": [
    {
     "name": "stdout",
     "output_type": "stream",
     "text": [
      "[[[ 100.  101.  102.  103.  104.  105.  106.  107.  108.  109.]\n",
      "  [ 100.  100.  100.  100.  100.  100.  100.  100.  100.  100.]\n",
      "  [ 100.  100.  100.  100.  100.  100.  100.  100.  100.  100.]\n",
      "  [ 100.  100.  100.  100.  100.  100.  100.  100.  100.  100.]\n",
      "  [ 100.  100.  100.  100.  100.  100.  100.  100.  100.  100.]]]\n"
     ]
    }
   ],
   "source": [
    "STRT = 100 * np.ones((NLAY, NROW, NCOL), dtype=np.float32)  # set starting head to 100 through out model domain\n",
    "STRT[:, 0, 0] = 100.       # the function from Toth is h = 0.05x + 100, so \n",
    "STRT[:, 0, 1] = 0.05*20+100\n",
    "STRT[:, 0, 2] = 0.05*40+100\n",
    "STRT[:, 0, 3] = 0.05*60+100\n",
    "STRT[:, 0, 4] = 0.05*80+100\n",
    "STRT[:, 0, 5] = 0.05*100+100\n",
    "STRT[:, 0, 6] = 0.05*120+100\n",
    "STRT[:, 0, 7] = 0.05*140+100\n",
    "STRT[:, 0, 8] = 0.05*160+100\n",
    "STRT[:, 0, 9] = 0.05*180+100\n",
    "print (STRT)"
   ]
  },
  {
   "cell_type": "code",
   "execution_count": 18,
   "metadata": {
    "collapsed": true
   },
   "outputs": [],
   "source": [
    "BAS_PACKAGE = flopy.modflow.ModflowBas(MF, ibound=IBOUND, strt=STRT)\n",
    "# print (BAS_PACKAGE)  # uncomment this by removing # at far left to see the information about the flopy BAS object"
   ]
  },
  {
   "cell_type": "markdown",
   "metadata": {},
   "source": [
    "### Layer Property Flow Package\n",
    "Create a flopy layer property flow package object: [flopy.modflow.ModflowLpf](http://modflowpy.github.io/flopydoc/mflpf.html)."
   ]
  },
  {
   "cell_type": "code",
   "execution_count": 19,
   "metadata": {
    "collapsed": true
   },
   "outputs": [],
   "source": [
    "LPF_PACKAGE = flopy.modflow.ModflowLpf(MF, hk=HK, vka=VKA)  # we defined the K and anisotropy at top of file\n",
    "# print (LPF_PACKAGE)  # uncomment this at far left to see the information about the flopy LPF object"
   ]
  },
  {
   "cell_type": "markdown",
   "metadata": {},
   "source": [
    "### Output Control\n",
    "Create a flopy output control object: [flopy.modflow.ModflowOc](http://modflowpy.github.io/flopydoc/mfoc.html)."
   ]
  },
  {
   "cell_type": "code",
   "execution_count": 20,
   "metadata": {
    "collapsed": true
   },
   "outputs": [],
   "source": [
    "OC_PACKAGE = flopy.modflow.ModflowOc(MF)   # we'll use the defaults for the model output\n",
    "# print (OC_PACKAGE)  # uncomment this at far left to see the information about the flopy OC object"
   ]
  },
  {
   "cell_type": "markdown",
   "metadata": {},
   "source": [
    "### Preconditioned Conjugate Gradient Solver\n",
    "Create a flopy pcg package object: [flopy.modflow.ModflowPcg](http://modflowpy.github.io/flopydoc/mfpcg.html)."
   ]
  },
  {
   "cell_type": "code",
   "execution_count": 21,
   "metadata": {
    "collapsed": true
   },
   "outputs": [],
   "source": [
    "PCG_PACKAGE = flopy.modflow.ModflowPcg(MF) # we'll use the defaults for the PCG solver\n",
    "# print (PCG_PACKAGE)  # uncomment this at far left to see the information about the flopy PCG object"
   ]
  },
  {
   "cell_type": "markdown",
   "metadata": {},
   "source": [
    "## Writing the MODFLOW Input Files\n",
    "Before we create the model input datasets, we can do some directory cleanup to make sure that we don't accidently use old files."
   ]
  },
  {
   "cell_type": "code",
   "execution_count": 23,
   "metadata": {},
   "outputs": [
    {
     "name": "stdout",
     "output_type": "stream",
     "text": [
      "Deleted:  P4-1.bas\n",
      "Deleted:  P4-1.cbc\n",
      "Deleted:  P4-1.ddn\n",
      "Deleted:  P4-1.dis\n",
      "Deleted:  P4-1.hds\n",
      "Deleted:  P4-1.list\n",
      "Deleted:  P4-1.lpf\n",
      "Deleted:  P4-1.nam\n",
      "Deleted:  P4-1.oc\n",
      "Deleted:  P4-1.pcg\n"
     ]
    }
   ],
   "source": [
    "#Before writing input, destroy all files in folder\n",
    "#This will prevent us from reading old results\n",
    "modelfiles = os.listdir(modelpath)\n",
    "for filename in modelfiles:\n",
    "    f = os.path.join(modelpath, filename)\n",
    "    if modelname in f:\n",
    "        try:\n",
    "            os.remove(f)\n",
    "            print ('Deleted: ', filename)\n",
    "        except:\n",
    "            print ('Unable to delete: ', filename)"
   ]
  },
  {
   "cell_type": "code",
   "execution_count": 24,
   "metadata": {
    "collapsed": true
   },
   "outputs": [],
   "source": [
    "#Now write the model input files\n",
    "MF.write_input()"
   ]
  },
  {
   "cell_type": "markdown",
   "metadata": {},
   "source": [
    "Yup.  It's that simple, the model datasets are written using a single command (mf.write_input)."
   ]
  },
  {
   "cell_type": "markdown",
   "metadata": {},
   "source": [
    "Check in the model working directory and verify that the input files have been created.  Or if you might just add another cell, right after this one, that prints a list of all the files in our model directory.  The path we are working in is returned from this next block."
   ]
  },
  {
   "cell_type": "code",
   "execution_count": 25,
   "metadata": {},
   "outputs": [
    {
     "data": {
      "text/plain": [
       "'/Users/rjhunt1/GitHub/Chapter_4_problems-1/P4-1_Toth'"
      ]
     },
     "execution_count": 25,
     "metadata": {},
     "output_type": "execute_result"
    }
   ],
   "source": [
    "# return current working directory\n",
    "modelpath"
   ]
  },
  {
   "cell_type": "markdown",
   "metadata": {},
   "source": [
    "## Running the Model\n",
    "\n",
    "Flopy has several methods attached to the model object that can be used to run the model.  They are run_model, run_model2, and run_model3.  Here we use run_model3, which will write output to the notebook."
   ]
  },
  {
   "cell_type": "code",
   "execution_count": 26,
   "metadata": {},
   "outputs": [
    {
     "name": "stdout",
     "output_type": "stream",
     "text": [
      "FloPy is using the following executable to run the model: /Users/rjhunt1/GitHub/Chapter_4_problems-1/mf2005\n",
      "dyld: Library not loaded: /opt/local/lib/libgcc/libgfortran.3.dylib\n",
      "  Referenced from: /Users/rjhunt1/GitHub/Chapter_4_problems-1/mf2005\n",
      "  Reason: image not found\n"
     ]
    }
   ],
   "source": [
    "silent = False  #Print model output to screen?\n",
    "pause = False   #Require user to hit enter? Doesn't mean much in Ipython notebook\n",
    "report = True   #Store the output from the model in buff\n",
    "success, buff = MF.run_model(silent=silent, pause=pause, report=report)"
   ]
  },
  {
   "cell_type": "markdown",
   "metadata": {},
   "source": [
    "## Post Processing the Results\n",
    "To read heads from the MODFLOW binary output file, we can use the [flopy.utils.binaryfile](http://modflowpy.github.io/flopydoc/binaryfile.html) module. Specifically, we can use the HeadFile object from that module to extract head data arrays. "
   ]
  },
  {
   "cell_type": "code",
   "execution_count": 17,
   "metadata": {},
   "outputs": [
    {
     "name": "stdout",
     "output_type": "stream",
     "text": [
      "Headfile (P4-1.hds) contains the following list of times:  [1.0]\n"
     ]
    }
   ],
   "source": [
    "#imports for plotting and reading the MODFLOW binary output file\n",
    "import matplotlib.pyplot as plt\n",
    "import flopy.utils.binaryfile as bf\n",
    "\n",
    "#Create the headfile object and grab the results for last time.\n",
    "headfile = os.path.join(modelpath, modelname + '.hds')\n",
    "headfileobj = bf.HeadFile(headfile)\n",
    "\n",
    "#Get a list of times that are contained in the model\n",
    "times = headfileobj.get_times()\n",
    "print 'Headfile (' + modelname + '.hds' + ') contains the following list of times: ', times"
   ]
  },
  {
   "cell_type": "code",
   "execution_count": 18,
   "metadata": {},
   "outputs": [
    {
     "name": "stdout",
     "output_type": "stream",
     "text": [
      "Head statistics\n",
      "  min:  100.0\n",
      "  max:  109.0\n",
      "  std:  2.00464\n"
     ]
    }
   ],
   "source": [
    "#Get a numpy array of heads for totim = 1.0\n",
    "#The get_data method will extract head data from the binary file.\n",
    "HEAD = headfileobj.get_data(totim=1.0)\n",
    "\n",
    "#Print statistics on the head\n",
    "print 'Head statistics'\n",
    "print '  min: ', HEAD.min()\n",
    "print '  max: ', HEAD.max()\n",
    "print '  std: ', HEAD.std()"
   ]
  },
  {
   "cell_type": "code",
   "execution_count": 19,
   "metadata": {},
   "outputs": [
    {
     "name": "stdout",
     "output_type": "stream",
     "text": [
      "Contour Levels:  [ 100.   100.5  101.   101.5  102.   102.5  103.   103.5  104.   104.5\n",
      "  105.   105.5  106.   106.5  107.   107.5  108.   108.5]\n",
      "Extent of domain:  (10.0, 190.0, 10.0, 90.0)\n"
     ]
    },
    {
     "data": {
      "image/png": "[encoded data removed]",
      "text/plain": [
       "<matplotlib.figure.Figure at 0x10600a3d0>"
      ]
     },
     "metadata": {},
     "output_type": "display_data"
    }
   ],
   "source": [
    "#Create a contour plot of heads\n",
    "FIG = plt.figure(figsize=(15,15))\n",
    "\n",
    "#setup contour levels and plot extent\n",
    "LEVELS = np.arange(100, 109, 0.5)\n",
    "EXTENT = (DELR/2., LX - DELR/2., DELC/2., LY - DELC/2.)\n",
    "print 'Contour Levels: ', LEVELS\n",
    "print 'Extent of domain: ', EXTENT\n",
    "\n",
    "#Make a contour plot on the first axis\n",
    "AX1 = FIG.add_subplot(1, 2, 1, aspect='equal')\n",
    "AX1.contour(np.flipud(HEAD[0, :, :]), levels=LEVELS, extent=EXTENT)\n",
    "\n",
    "#Make a color flood on the second axis\n",
    "AX2 = FIG.add_subplot(1, 2, 2, aspect='equal')\n",
    "cax = AX2.imshow(HEAD[0, :, :], extent=EXTENT, interpolation='nearest')\n",
    "cbar = FIG.colorbar(cax, orientation='vertical', shrink=0.25)\n"
   ]
  },
  {
   "cell_type": "markdown",
   "metadata": {},
   "source": [
    "Look at the bottom of the MODFLOW output file (ending with a *.list) and note the water balance reported. It's that simple, the model automates the calculation of the water budget so the modeler does not have to."
   ]
  },
  {
   "cell_type": "markdown",
   "metadata": {},
   "source": [
    "## Testing your Skills\n",
    "\n",
    "1.  Experiment with horizontal grid resolution, model domain, and aquifer characteristics.  Rerun the model and post process to evaluate the effects.\n",
    "\n",
    "2.  Advanced Python People:  Create a water budget for the problem within the iPython notebook. Compare it to that reported in the MODFLOW *.list file."
   ]
  },
  {
   "cell_type": "code",
   "execution_count": null,
   "metadata": {
    "collapsed": true
   },
   "outputs": [],
   "source": []
  }
 ],
 "metadata": {
  "kernelspec": {
   "display_name": "Python 3",
   "language": "python",
   "name": "python3"
  },
  "language_info": {
   "codemirror_mode": {
    "name": "ipython",
    "version": 3
   },
   "file_extension": ".py",
   "mimetype": "text/x-python",
   "name": "python",
   "nbconvert_exporter": "python",
   "pygments_lexer": "ipython3",
   "version": "3.6.5"
  }
 },
 "nbformat": 4,
 "nbformat_minor": 1
}
